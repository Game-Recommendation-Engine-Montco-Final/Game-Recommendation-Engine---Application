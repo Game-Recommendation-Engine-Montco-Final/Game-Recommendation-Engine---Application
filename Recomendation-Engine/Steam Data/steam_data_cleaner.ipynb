{
 "metadata": {
  "language_info": {
   "codemirror_mode": {
    "name": "ipython",
    "version": 3
   },
   "file_extension": ".py",
   "mimetype": "text/x-python",
   "name": "python",
   "nbconvert_exporter": "python",
   "pygments_lexer": "ipython3",
   "version": "3.9.1"
  },
  "orig_nbformat": 2,
  "kernelspec": {
   "name": "python391jvsc74a57bd0b35125075e239e88370a51903b2de2b70acf77108d76d7a81f003ab344a52fa2",
   "display_name": "Python 3.9.1 64-bit"
  },
  "metadata": {
   "interpreter": {
    "hash": "b35125075e239e88370a51903b2de2b70acf77108d76d7a81f003ab344a52fa2"
   }
  }
 },
 "nbformat": 4,
 "nbformat_minor": 2,
 "cells": [
  {
   "cell_type": "code",
   "execution_count": 1,
   "metadata": {},
   "outputs": [],
   "source": [
    "# standard library imports\n",
    "from ast import literal_eval\n",
    "import itertools\n",
    "import time\n",
    "import re\n",
    "\n",
    "# third-party imports\n",
    "import numpy as np\n",
    "import pandas as pd\n",
    "\n",
    "# customisations\n",
    "pd.set_option(\"max_columns\", 100)"
   ]
  },
  {
   "cell_type": "code",
   "execution_count": 2,
   "metadata": {},
   "outputs": [
    {
     "output_type": "stream",
     "name": "stdout",
     "text": [
      "Rows: 1000\nColumns: 39\n"
     ]
    },
    {
     "output_type": "execute_result",
     "data": {
      "text/plain": [
       "   type                                   name  steam_appid  required_age  \\\n",
       "0  game                SiN Episodes: Emergence         1300             0   \n",
       "1  game  Heretic: Shadow of the Serpent Riders         2390             0   \n",
       "2  game                       Bloody Good Time         2450             0   \n",
       "3  game                         RIP - Trilogy™         2540             0   \n",
       "4  game                                   GUN™         2610            17   \n",
       "\n",
       "   is_free controller_support  dlc  \\\n",
       "0    False                NaN  NaN   \n",
       "1    False                NaN  NaN   \n",
       "2    False                NaN  NaN   \n",
       "3    False                NaN  NaN   \n",
       "4    False                NaN  NaN   \n",
       "\n",
       "                                detailed_description  \\\n",
       "0  You are John Blade, commander of HardCorps, an...   \n",
       "1  <p>In a twisted medieval dimension, undead cre...   \n",
       "2  <p>Congratulations, you’ve just been cast in y...   \n",
       "3  With the completion of the third title in the ...   \n",
       "4  When life robs Colton White of all that matter...   \n",
       "\n",
       "                                      about_the_game  \\\n",
       "0  You are John Blade, commander of HardCorps, an...   \n",
       "1  <p>In a twisted medieval dimension, undead cre...   \n",
       "2  <p>Congratulations, you’ve just been cast in y...   \n",
       "3  With the completion of the third title in the ...   \n",
       "4  When life robs Colton White of all that matter...   \n",
       "\n",
       "                                   short_description  fullgame  \\\n",
       "0  You are John Blade, commander of HardCorps, an...       NaN   \n",
       "1  In a twisted medieval dimension, undead creatu...       NaN   \n",
       "2  Congratulations, you’ve just been cast in your...       NaN   \n",
       "3  With the completion of the third title in the ...       NaN   \n",
       "4  When life robs Colton White of all that matter...       NaN   \n",
       "\n",
       "        supported_languages  \\\n",
       "0  English, Russian, French   \n",
       "1                   English   \n",
       "2                   English   \n",
       "3                   English   \n",
       "4                   English   \n",
       "\n",
       "                                        header_image website  \\\n",
       "0  https://cdn.akamai.steamstatic.com/steam/apps/...     NaN   \n",
       "1  https://cdn.akamai.steamstatic.com/steam/apps/...     NaN   \n",
       "2  https://cdn.akamai.steamstatic.com/steam/apps/...     NaN   \n",
       "3  https://cdn.akamai.steamstatic.com/steam/apps/...     NaN   \n",
       "4  https://cdn.akamai.steamstatic.com/steam/apps/...     NaN   \n",
       "\n",
       "                                     pc_requirements mac_requirements  \\\n",
       "0  {'minimum': '\\r\\n\\t\\t\\t<p><strong>Minimum:</st...               []   \n",
       "1  {'minimum': '<p><strong>Minimum: </strong>A 10...               []   \n",
       "2  {'minimum': '<strong>Minimum</strong>\\n\\t\\t\\t\\...               []   \n",
       "3  {'minimum': '<strong>Minimum: </strong>Windows...               []   \n",
       "4  {'minimum': '<strong>Minimum</strong> 3D hardw...               []   \n",
       "\n",
       "  linux_requirements                                       legal_notice  \\\n",
       "0                 []                                                NaN   \n",
       "1                 []                                                NaN   \n",
       "2                 []  © 2010 Ubisoft Entertainment. All Rights Reser...   \n",
       "3                 []                                                NaN   \n",
       "4                 []                                                NaN   \n",
       "\n",
       "  drm_notice ext_user_account_notice                developers  \\\n",
       "0        NaN                     NaN  ['Ritual Entertainment']   \n",
       "1        NaN                     NaN        ['Raven Software']   \n",
       "2        NaN                     NaN       ['Outerlight Ltd.']   \n",
       "3        NaN                     NaN        ['Elephant Games']   \n",
       "4        NaN                     NaN             ['Neversoft']   \n",
       "\n",
       "                 publishers demos  \\\n",
       "0  ['Ritual Entertainment']   NaN   \n",
       "1           ['id Software']   NaN   \n",
       "2               ['Ubisoft']   NaN   \n",
       "3                      ['']   NaN   \n",
       "4            ['Activision']   NaN   \n",
       "\n",
       "                                      price_overview    packages  \\\n",
       "0  {'currency': 'USD', 'initial': 999, 'final': 9...    [443649]   \n",
       "1  {'currency': 'USD', 'initial': 499, 'final': 4...  [435, 439]   \n",
       "2  {'currency': 'USD', 'initial': 499, 'final': 4...      [6530]   \n",
       "3  {'currency': 'USD', 'initial': 499, 'final': 4...       [346]   \n",
       "4  {'currency': 'USD', 'initial': 1999, 'final': ...       [174]   \n",
       "\n",
       "                                      package_groups  \\\n",
       "0  [{'name': 'default', 'title': 'Buy SiN Episode...   \n",
       "1  [{'name': 'default', 'title': 'Buy Heretic: Sh...   \n",
       "2  [{'name': 'default', 'title': 'Buy Bloody Good...   \n",
       "3  [{'name': 'default', 'title': 'Buy RIP - Trilo...   \n",
       "4  [{'name': 'default', 'title': 'Buy GUN™', 'des...   \n",
       "\n",
       "                                         platforms  \\\n",
       "0  {'windows': True, 'mac': False, 'linux': False}   \n",
       "1  {'windows': True, 'mac': False, 'linux': False}   \n",
       "2  {'windows': True, 'mac': False, 'linux': False}   \n",
       "3  {'windows': True, 'mac': False, 'linux': False}   \n",
       "4  {'windows': True, 'mac': False, 'linux': False}   \n",
       "\n",
       "                                          metacritic  \\\n",
       "0  {'score': 75, 'url': 'https://www.metacritic.c...   \n",
       "1                                                NaN   \n",
       "2  {'score': 73, 'url': 'https://www.metacritic.c...   \n",
       "3                                                NaN   \n",
       "4  {'score': 76, 'url': 'https://www.metacritic.c...   \n",
       "\n",
       "                                             reviews  \\\n",
       "0                                                NaN   \n",
       "1                                                NaN   \n",
       "2                                                NaN   \n",
       "3  <strong>GameTunnel gives RIP 3 a 73%</strong><...   \n",
       "4                                                NaN   \n",
       "\n",
       "                                          categories  \\\n",
       "0  [{'id': 2, 'description': 'Single-player'}, {'...   \n",
       "1  [{'id': 2, 'description': 'Single-player'}, {'...   \n",
       "2  [{'id': 2, 'description': 'Single-player'}, {'...   \n",
       "3  [{'id': 2, 'description': 'Single-player'}, {'...   \n",
       "4        [{'id': 2, 'description': 'Single-player'}]   \n",
       "\n",
       "                                              genres  \\\n",
       "0             [{'id': '1', 'description': 'Action'}]   \n",
       "1             [{'id': '1', 'description': 'Action'}]   \n",
       "2             [{'id': '1', 'description': 'Action'}]   \n",
       "3  [{'id': '4', 'description': 'Casual'}, {'id': ...   \n",
       "4             [{'id': '1', 'description': 'Action'}]   \n",
       "\n",
       "                                         screenshots movies  recommendations  \\\n",
       "0  [{'id': 0, 'path_thumbnail': 'https://cdn.akam...    NaN   {'total': 445}   \n",
       "1  [{'id': 0, 'path_thumbnail': 'https://cdn.akam...    NaN   {'total': 637}   \n",
       "2  [{'id': 0, 'path_thumbnail': 'https://cdn.akam...    NaN   {'total': 790}   \n",
       "3  [{'id': 0, 'path_thumbnail': 'https://cdn.akam...    NaN   {'total': 234}   \n",
       "4  [{'id': 0, 'path_thumbnail': 'https://cdn.akam...    NaN  {'total': 1059}   \n",
       "\n",
       "                                        achievements  \\\n",
       "0                                                NaN   \n",
       "1                                                NaN   \n",
       "2  {'total': 12, 'highlighted': [{'name': 'First ...   \n",
       "3                                                NaN   \n",
       "4                                                NaN   \n",
       "\n",
       "                                     release_date              support_info  \\\n",
       "0  {'coming_soon': False, 'date': 'May 10, 2006'}  {'url': '', 'email': ''}   \n",
       "1   {'coming_soon': False, 'date': 'Aug 3, 2007'}  {'url': '', 'email': ''}   \n",
       "2  {'coming_soon': False, 'date': 'Oct 29, 2010'}  {'url': '', 'email': ''}   \n",
       "3   {'coming_soon': False, 'date': 'Jun 1, 2007'}  {'url': '', 'email': ''}   \n",
       "4  {'coming_soon': False, 'date': 'Oct 13, 2006'}  {'url': '', 'email': ''}   \n",
       "\n",
       "                                          background  \\\n",
       "0  https://cdn.akamai.steamstatic.com/steam/apps/...   \n",
       "1  https://cdn.akamai.steamstatic.com/steam/apps/...   \n",
       "2  https://cdn.akamai.steamstatic.com/steam/apps/...   \n",
       "3  https://cdn.akamai.steamstatic.com/steam/apps/...   \n",
       "4  https://cdn.akamai.steamstatic.com/steam/apps/...   \n",
       "\n",
       "          content_descriptors  \n",
       "0  {'ids': [], 'notes': None}  \n",
       "1  {'ids': [], 'notes': None}  \n",
       "2  {'ids': [], 'notes': None}  \n",
       "3  {'ids': [], 'notes': None}  \n",
       "4  {'ids': [], 'notes': None}  "
      ],
      "text/html": "<div>\n<style scoped>\n    .dataframe tbody tr th:only-of-type {\n        vertical-align: middle;\n    }\n\n    .dataframe tbody tr th {\n        vertical-align: top;\n    }\n\n    .dataframe thead th {\n        text-align: right;\n    }\n</style>\n<table border=\"1\" class=\"dataframe\">\n  <thead>\n    <tr style=\"text-align: right;\">\n      <th></th>\n      <th>type</th>\n      <th>name</th>\n      <th>steam_appid</th>\n      <th>required_age</th>\n      <th>is_free</th>\n      <th>controller_support</th>\n      <th>dlc</th>\n      <th>detailed_description</th>\n      <th>about_the_game</th>\n      <th>short_description</th>\n      <th>fullgame</th>\n      <th>supported_languages</th>\n      <th>header_image</th>\n      <th>website</th>\n      <th>pc_requirements</th>\n      <th>mac_requirements</th>\n      <th>linux_requirements</th>\n      <th>legal_notice</th>\n      <th>drm_notice</th>\n      <th>ext_user_account_notice</th>\n      <th>developers</th>\n      <th>publishers</th>\n      <th>demos</th>\n      <th>price_overview</th>\n      <th>packages</th>\n      <th>package_groups</th>\n      <th>platforms</th>\n      <th>metacritic</th>\n      <th>reviews</th>\n      <th>categories</th>\n      <th>genres</th>\n      <th>screenshots</th>\n      <th>movies</th>\n      <th>recommendations</th>\n      <th>achievements</th>\n      <th>release_date</th>\n      <th>support_info</th>\n      <th>background</th>\n      <th>content_descriptors</th>\n    </tr>\n  </thead>\n  <tbody>\n    <tr>\n      <th>0</th>\n      <td>game</td>\n      <td>SiN Episodes: Emergence</td>\n      <td>1300</td>\n      <td>0</td>\n      <td>False</td>\n      <td>NaN</td>\n      <td>NaN</td>\n      <td>You are John Blade, commander of HardCorps, an...</td>\n      <td>You are John Blade, commander of HardCorps, an...</td>\n      <td>You are John Blade, commander of HardCorps, an...</td>\n      <td>NaN</td>\n      <td>English, Russian, French</td>\n      <td>https://cdn.akamai.steamstatic.com/steam/apps/...</td>\n      <td>NaN</td>\n      <td>{'minimum': '\\r\\n\\t\\t\\t&lt;p&gt;&lt;strong&gt;Minimum:&lt;/st...</td>\n      <td>[]</td>\n      <td>[]</td>\n      <td>NaN</td>\n      <td>NaN</td>\n      <td>NaN</td>\n      <td>['Ritual Entertainment']</td>\n      <td>['Ritual Entertainment']</td>\n      <td>NaN</td>\n      <td>{'currency': 'USD', 'initial': 999, 'final': 9...</td>\n      <td>[443649]</td>\n      <td>[{'name': 'default', 'title': 'Buy SiN Episode...</td>\n      <td>{'windows': True, 'mac': False, 'linux': False}</td>\n      <td>{'score': 75, 'url': 'https://www.metacritic.c...</td>\n      <td>NaN</td>\n      <td>[{'id': 2, 'description': 'Single-player'}, {'...</td>\n      <td>[{'id': '1', 'description': 'Action'}]</td>\n      <td>[{'id': 0, 'path_thumbnail': 'https://cdn.akam...</td>\n      <td>NaN</td>\n      <td>{'total': 445}</td>\n      <td>NaN</td>\n      <td>{'coming_soon': False, 'date': 'May 10, 2006'}</td>\n      <td>{'url': '', 'email': ''}</td>\n      <td>https://cdn.akamai.steamstatic.com/steam/apps/...</td>\n      <td>{'ids': [], 'notes': None}</td>\n    </tr>\n    <tr>\n      <th>1</th>\n      <td>game</td>\n      <td>Heretic: Shadow of the Serpent Riders</td>\n      <td>2390</td>\n      <td>0</td>\n      <td>False</td>\n      <td>NaN</td>\n      <td>NaN</td>\n      <td>&lt;p&gt;In a twisted medieval dimension, undead cre...</td>\n      <td>&lt;p&gt;In a twisted medieval dimension, undead cre...</td>\n      <td>In a twisted medieval dimension, undead creatu...</td>\n      <td>NaN</td>\n      <td>English</td>\n      <td>https://cdn.akamai.steamstatic.com/steam/apps/...</td>\n      <td>NaN</td>\n      <td>{'minimum': '&lt;p&gt;&lt;strong&gt;Minimum: &lt;/strong&gt;A 10...</td>\n      <td>[]</td>\n      <td>[]</td>\n      <td>NaN</td>\n      <td>NaN</td>\n      <td>NaN</td>\n      <td>['Raven Software']</td>\n      <td>['id Software']</td>\n      <td>NaN</td>\n      <td>{'currency': 'USD', 'initial': 499, 'final': 4...</td>\n      <td>[435, 439]</td>\n      <td>[{'name': 'default', 'title': 'Buy Heretic: Sh...</td>\n      <td>{'windows': True, 'mac': False, 'linux': False}</td>\n      <td>NaN</td>\n      <td>NaN</td>\n      <td>[{'id': 2, 'description': 'Single-player'}, {'...</td>\n      <td>[{'id': '1', 'description': 'Action'}]</td>\n      <td>[{'id': 0, 'path_thumbnail': 'https://cdn.akam...</td>\n      <td>NaN</td>\n      <td>{'total': 637}</td>\n      <td>NaN</td>\n      <td>{'coming_soon': False, 'date': 'Aug 3, 2007'}</td>\n      <td>{'url': '', 'email': ''}</td>\n      <td>https://cdn.akamai.steamstatic.com/steam/apps/...</td>\n      <td>{'ids': [], 'notes': None}</td>\n    </tr>\n    <tr>\n      <th>2</th>\n      <td>game</td>\n      <td>Bloody Good Time</td>\n      <td>2450</td>\n      <td>0</td>\n      <td>False</td>\n      <td>NaN</td>\n      <td>NaN</td>\n      <td>&lt;p&gt;Congratulations, you’ve just been cast in y...</td>\n      <td>&lt;p&gt;Congratulations, you’ve just been cast in y...</td>\n      <td>Congratulations, you’ve just been cast in your...</td>\n      <td>NaN</td>\n      <td>English</td>\n      <td>https://cdn.akamai.steamstatic.com/steam/apps/...</td>\n      <td>NaN</td>\n      <td>{'minimum': '&lt;strong&gt;Minimum&lt;/strong&gt;\\n\\t\\t\\t\\...</td>\n      <td>[]</td>\n      <td>[]</td>\n      <td>© 2010 Ubisoft Entertainment. All Rights Reser...</td>\n      <td>NaN</td>\n      <td>NaN</td>\n      <td>['Outerlight Ltd.']</td>\n      <td>['Ubisoft']</td>\n      <td>NaN</td>\n      <td>{'currency': 'USD', 'initial': 499, 'final': 4...</td>\n      <td>[6530]</td>\n      <td>[{'name': 'default', 'title': 'Buy Bloody Good...</td>\n      <td>{'windows': True, 'mac': False, 'linux': False}</td>\n      <td>{'score': 73, 'url': 'https://www.metacritic.c...</td>\n      <td>NaN</td>\n      <td>[{'id': 2, 'description': 'Single-player'}, {'...</td>\n      <td>[{'id': '1', 'description': 'Action'}]</td>\n      <td>[{'id': 0, 'path_thumbnail': 'https://cdn.akam...</td>\n      <td>NaN</td>\n      <td>{'total': 790}</td>\n      <td>{'total': 12, 'highlighted': [{'name': 'First ...</td>\n      <td>{'coming_soon': False, 'date': 'Oct 29, 2010'}</td>\n      <td>{'url': '', 'email': ''}</td>\n      <td>https://cdn.akamai.steamstatic.com/steam/apps/...</td>\n      <td>{'ids': [], 'notes': None}</td>\n    </tr>\n    <tr>\n      <th>3</th>\n      <td>game</td>\n      <td>RIP - Trilogy™</td>\n      <td>2540</td>\n      <td>0</td>\n      <td>False</td>\n      <td>NaN</td>\n      <td>NaN</td>\n      <td>With the completion of the third title in the ...</td>\n      <td>With the completion of the third title in the ...</td>\n      <td>With the completion of the third title in the ...</td>\n      <td>NaN</td>\n      <td>English</td>\n      <td>https://cdn.akamai.steamstatic.com/steam/apps/...</td>\n      <td>NaN</td>\n      <td>{'minimum': '&lt;strong&gt;Minimum: &lt;/strong&gt;Windows...</td>\n      <td>[]</td>\n      <td>[]</td>\n      <td>NaN</td>\n      <td>NaN</td>\n      <td>NaN</td>\n      <td>['Elephant Games']</td>\n      <td>['']</td>\n      <td>NaN</td>\n      <td>{'currency': 'USD', 'initial': 499, 'final': 4...</td>\n      <td>[346]</td>\n      <td>[{'name': 'default', 'title': 'Buy RIP - Trilo...</td>\n      <td>{'windows': True, 'mac': False, 'linux': False}</td>\n      <td>NaN</td>\n      <td>&lt;strong&gt;GameTunnel gives RIP 3 a 73%&lt;/strong&gt;&lt;...</td>\n      <td>[{'id': 2, 'description': 'Single-player'}, {'...</td>\n      <td>[{'id': '4', 'description': 'Casual'}, {'id': ...</td>\n      <td>[{'id': 0, 'path_thumbnail': 'https://cdn.akam...</td>\n      <td>NaN</td>\n      <td>{'total': 234}</td>\n      <td>NaN</td>\n      <td>{'coming_soon': False, 'date': 'Jun 1, 2007'}</td>\n      <td>{'url': '', 'email': ''}</td>\n      <td>https://cdn.akamai.steamstatic.com/steam/apps/...</td>\n      <td>{'ids': [], 'notes': None}</td>\n    </tr>\n    <tr>\n      <th>4</th>\n      <td>game</td>\n      <td>GUN™</td>\n      <td>2610</td>\n      <td>17</td>\n      <td>False</td>\n      <td>NaN</td>\n      <td>NaN</td>\n      <td>When life robs Colton White of all that matter...</td>\n      <td>When life robs Colton White of all that matter...</td>\n      <td>When life robs Colton White of all that matter...</td>\n      <td>NaN</td>\n      <td>English</td>\n      <td>https://cdn.akamai.steamstatic.com/steam/apps/...</td>\n      <td>NaN</td>\n      <td>{'minimum': '&lt;strong&gt;Minimum&lt;/strong&gt; 3D hardw...</td>\n      <td>[]</td>\n      <td>[]</td>\n      <td>NaN</td>\n      <td>NaN</td>\n      <td>NaN</td>\n      <td>['Neversoft']</td>\n      <td>['Activision']</td>\n      <td>NaN</td>\n      <td>{'currency': 'USD', 'initial': 1999, 'final': ...</td>\n      <td>[174]</td>\n      <td>[{'name': 'default', 'title': 'Buy GUN™', 'des...</td>\n      <td>{'windows': True, 'mac': False, 'linux': False}</td>\n      <td>{'score': 76, 'url': 'https://www.metacritic.c...</td>\n      <td>NaN</td>\n      <td>[{'id': 2, 'description': 'Single-player'}]</td>\n      <td>[{'id': '1', 'description': 'Action'}]</td>\n      <td>[{'id': 0, 'path_thumbnail': 'https://cdn.akam...</td>\n      <td>NaN</td>\n      <td>{'total': 1059}</td>\n      <td>NaN</td>\n      <td>{'coming_soon': False, 'date': 'Oct 13, 2006'}</td>\n      <td>{'url': '', 'email': ''}</td>\n      <td>https://cdn.akamai.steamstatic.com/steam/apps/...</td>\n      <td>{'ids': [], 'notes': None}</td>\n    </tr>\n  </tbody>\n</table>\n</div>"
     },
     "metadata": {},
     "execution_count": 2
    }
   ],
   "source": [
    "\n",
    "# read in downloaded data\n",
    "raw_steam_data = pd.read_csv('steam_app_data.csv')\n",
    "\n",
    "# print out number of rows and columns\n",
    "print('Rows:', raw_steam_data.shape[0])\n",
    "print('Columns:', raw_steam_data.shape[1])\n",
    "\n",
    "# view first five rows\n",
    "raw_steam_data.head()"
   ]
  },
  {
   "cell_type": "code",
   "execution_count": 3,
   "metadata": {},
   "outputs": [
    {
     "output_type": "execute_result",
     "data": {
      "text/plain": [
       "type                          0\n",
       "name                          0\n",
       "steam_appid                   0\n",
       "required_age                  0\n",
       "is_free                       0\n",
       "controller_support          768\n",
       "dlc                         668\n",
       "detailed_description          0\n",
       "about_the_game                0\n",
       "short_description             0\n",
       "fullgame                   1000\n",
       "supported_languages           0\n",
       "header_image                  0\n",
       "website                     255\n",
       "pc_requirements               0\n",
       "mac_requirements              0\n",
       "linux_requirements            0\n",
       "legal_notice                538\n",
       "drm_notice                  989\n",
       "ext_user_account_notice     966\n",
       "developers                    3\n",
       "publishers                    0\n",
       "demos                       910\n",
       "price_overview              262\n",
       "packages                    239\n",
       "package_groups                0\n",
       "platforms                     0\n",
       "metacritic                  732\n",
       "reviews                     684\n",
       "categories                   15\n",
       "genres                        1\n",
       "screenshots                   0\n",
       "movies                      104\n",
       "recommendations             338\n",
       "achievements                377\n",
       "release_date                  0\n",
       "support_info                  0\n",
       "background                    0\n",
       "content_descriptors           0\n",
       "dtype: int64"
      ]
     },
     "metadata": {},
     "execution_count": 3
    }
   ],
   "source": [
    "null_counts = raw_steam_data.isnull().sum()\n",
    "null_counts"
   ]
  },
  {
   "cell_type": "code",
   "execution_count": 4,
   "metadata": {},
   "outputs": [
    {
     "output_type": "stream",
     "name": "stdout",
     "text": [
      "Drop columns with more than 500 missing rows\n\nColumns to drop: ['controller_support', 'dlc', 'fullgame', 'legal_notice', 'drm_notice', 'ext_user_account_notice', 'demos', 'metacritic', 'reviews']\n"
     ]
    }
   ],
   "source": [
    "threshold = raw_steam_data.shape[0] // 2\n",
    "\n",
    "print('Drop columns with more than {} missing rows'.format(threshold))\n",
    "print()\n",
    "\n",
    "drop_rows = raw_steam_data.columns[null_counts > threshold]\n",
    "\n",
    "print('Columns to drop: {}'.format(list(drop_rows)))"
   ]
  },
  {
   "cell_type": "code",
   "execution_count": 5,
   "metadata": {},
   "outputs": [
    {
     "output_type": "execute_result",
     "data": {
      "text/plain": [
       "game    1000\n",
       "Name: type, dtype: int64"
      ]
     },
     "metadata": {},
     "execution_count": 5
    }
   ],
   "source": [
    "raw_steam_data['type'].value_counts(dropna=False)"
   ]
  },
  {
   "cell_type": "code",
   "execution_count": 6,
   "metadata": {},
   "outputs": [
    {
     "output_type": "stream",
     "name": "stdout",
     "text": [
      "Rows to remove: 0\n"
     ]
    },
    {
     "output_type": "execute_result",
     "data": {
      "text/plain": [
       "Empty DataFrame\n",
       "Columns: [type, name, steam_appid, required_age, is_free, controller_support, dlc, detailed_description, about_the_game, short_description, fullgame, supported_languages, header_image, website, pc_requirements, mac_requirements, linux_requirements, legal_notice, drm_notice, ext_user_account_notice, developers, publishers, demos, price_overview, packages, package_groups, platforms, metacritic, reviews, categories, genres, screenshots, movies, recommendations, achievements, release_date, support_info, background, content_descriptors]\n",
       "Index: []"
      ],
      "text/html": "<div>\n<style scoped>\n    .dataframe tbody tr th:only-of-type {\n        vertical-align: middle;\n    }\n\n    .dataframe tbody tr th {\n        vertical-align: top;\n    }\n\n    .dataframe thead th {\n        text-align: right;\n    }\n</style>\n<table border=\"1\" class=\"dataframe\">\n  <thead>\n    <tr style=\"text-align: right;\">\n      <th></th>\n      <th>type</th>\n      <th>name</th>\n      <th>steam_appid</th>\n      <th>required_age</th>\n      <th>is_free</th>\n      <th>controller_support</th>\n      <th>dlc</th>\n      <th>detailed_description</th>\n      <th>about_the_game</th>\n      <th>short_description</th>\n      <th>fullgame</th>\n      <th>supported_languages</th>\n      <th>header_image</th>\n      <th>website</th>\n      <th>pc_requirements</th>\n      <th>mac_requirements</th>\n      <th>linux_requirements</th>\n      <th>legal_notice</th>\n      <th>drm_notice</th>\n      <th>ext_user_account_notice</th>\n      <th>developers</th>\n      <th>publishers</th>\n      <th>demos</th>\n      <th>price_overview</th>\n      <th>packages</th>\n      <th>package_groups</th>\n      <th>platforms</th>\n      <th>metacritic</th>\n      <th>reviews</th>\n      <th>categories</th>\n      <th>genres</th>\n      <th>screenshots</th>\n      <th>movies</th>\n      <th>recommendations</th>\n      <th>achievements</th>\n      <th>release_date</th>\n      <th>support_info</th>\n      <th>background</th>\n      <th>content_descriptors</th>\n    </tr>\n  </thead>\n  <tbody>\n  </tbody>\n</table>\n</div>"
     },
     "metadata": {},
     "execution_count": 6
    }
   ],
   "source": [
    "print('Rows to remove:', raw_steam_data[raw_steam_data['type'].isnull()].shape[0])\n",
    "\n",
    "# preview rows with missing type data\n",
    "raw_steam_data[raw_steam_data['type'].isnull()].head(3)\n"
   ]
  },
  {
   "cell_type": "code",
   "execution_count": 7,
   "metadata": {},
   "outputs": [
    {
     "output_type": "execute_result",
     "data": {
      "text/plain": [
       "Empty DataFrame\n",
       "Columns: [type, name, steam_appid, required_age, is_free, controller_support, dlc, detailed_description, about_the_game, short_description, fullgame, supported_languages, header_image, website, pc_requirements, mac_requirements, linux_requirements, legal_notice, drm_notice, ext_user_account_notice, developers, publishers, demos, price_overview, packages, package_groups, platforms, metacritic, reviews, categories, genres, screenshots, movies, recommendations, achievements, release_date, support_info, background, content_descriptors]\n",
       "Index: []"
      ],
      "text/html": "<div>\n<style scoped>\n    .dataframe tbody tr th:only-of-type {\n        vertical-align: middle;\n    }\n\n    .dataframe tbody tr th {\n        vertical-align: top;\n    }\n\n    .dataframe thead th {\n        text-align: right;\n    }\n</style>\n<table border=\"1\" class=\"dataframe\">\n  <thead>\n    <tr style=\"text-align: right;\">\n      <th></th>\n      <th>type</th>\n      <th>name</th>\n      <th>steam_appid</th>\n      <th>required_age</th>\n      <th>is_free</th>\n      <th>controller_support</th>\n      <th>dlc</th>\n      <th>detailed_description</th>\n      <th>about_the_game</th>\n      <th>short_description</th>\n      <th>fullgame</th>\n      <th>supported_languages</th>\n      <th>header_image</th>\n      <th>website</th>\n      <th>pc_requirements</th>\n      <th>mac_requirements</th>\n      <th>linux_requirements</th>\n      <th>legal_notice</th>\n      <th>drm_notice</th>\n      <th>ext_user_account_notice</th>\n      <th>developers</th>\n      <th>publishers</th>\n      <th>demos</th>\n      <th>price_overview</th>\n      <th>packages</th>\n      <th>package_groups</th>\n      <th>platforms</th>\n      <th>metacritic</th>\n      <th>reviews</th>\n      <th>categories</th>\n      <th>genres</th>\n      <th>screenshots</th>\n      <th>movies</th>\n      <th>recommendations</th>\n      <th>achievements</th>\n      <th>release_date</th>\n      <th>support_info</th>\n      <th>background</th>\n      <th>content_descriptors</th>\n    </tr>\n  </thead>\n  <tbody>\n  </tbody>\n</table>\n</div>"
     },
     "metadata": {},
     "execution_count": 7
    }
   ],
   "source": [
    "raw_steam_data[(raw_steam_data['name'].isnull()) | (raw_steam_data['name'] == 'none')]"
   ]
  },
  {
   "cell_type": "code",
   "execution_count": 8,
   "metadata": {},
   "outputs": [
    {
     "output_type": "stream",
     "name": "stdout",
     "text": [
      "Duplicate rows to remove: 0\n"
     ]
    },
    {
     "output_type": "execute_result",
     "data": {
      "text/plain": [
       "Empty DataFrame\n",
       "Columns: [type, name, steam_appid, required_age, is_free, controller_support, dlc, detailed_description, about_the_game, short_description, fullgame, supported_languages, header_image, website, pc_requirements, mac_requirements, linux_requirements, legal_notice, drm_notice, ext_user_account_notice, developers, publishers, demos, price_overview, packages, package_groups, platforms, metacritic, reviews, categories, genres, screenshots, movies, recommendations, achievements, release_date, support_info, background, content_descriptors]\n",
       "Index: []"
      ],
      "text/html": "<div>\n<style scoped>\n    .dataframe tbody tr th:only-of-type {\n        vertical-align: middle;\n    }\n\n    .dataframe tbody tr th {\n        vertical-align: top;\n    }\n\n    .dataframe thead th {\n        text-align: right;\n    }\n</style>\n<table border=\"1\" class=\"dataframe\">\n  <thead>\n    <tr style=\"text-align: right;\">\n      <th></th>\n      <th>type</th>\n      <th>name</th>\n      <th>steam_appid</th>\n      <th>required_age</th>\n      <th>is_free</th>\n      <th>controller_support</th>\n      <th>dlc</th>\n      <th>detailed_description</th>\n      <th>about_the_game</th>\n      <th>short_description</th>\n      <th>fullgame</th>\n      <th>supported_languages</th>\n      <th>header_image</th>\n      <th>website</th>\n      <th>pc_requirements</th>\n      <th>mac_requirements</th>\n      <th>linux_requirements</th>\n      <th>legal_notice</th>\n      <th>drm_notice</th>\n      <th>ext_user_account_notice</th>\n      <th>developers</th>\n      <th>publishers</th>\n      <th>demos</th>\n      <th>price_overview</th>\n      <th>packages</th>\n      <th>package_groups</th>\n      <th>platforms</th>\n      <th>metacritic</th>\n      <th>reviews</th>\n      <th>categories</th>\n      <th>genres</th>\n      <th>screenshots</th>\n      <th>movies</th>\n      <th>recommendations</th>\n      <th>achievements</th>\n      <th>release_date</th>\n      <th>support_info</th>\n      <th>background</th>\n      <th>content_descriptors</th>\n    </tr>\n  </thead>\n  <tbody>\n  </tbody>\n</table>\n</div>"
     },
     "metadata": {},
     "execution_count": 8
    }
   ],
   "source": [
    "duplicate_rows = raw_steam_data[raw_steam_data.duplicated()]\n",
    "\n",
    "print('Duplicate rows to remove:', duplicate_rows.shape[0])\n",
    "\n",
    "duplicate_rows.head(3)\n"
   ]
  },
  {
   "cell_type": "code",
   "execution_count": 9,
   "metadata": {},
   "outputs": [
    {
     "output_type": "stream",
     "name": "stdout",
     "text": [
      "(1000, 39)\n",
      "(1000, 29)\n"
     ]
    },
    {
     "output_type": "execute_result",
     "data": {
      "text/plain": [
       "                                    name  steam_appid  required_age  is_free  \\\n",
       "0                SiN Episodes: Emergence         1300             0    False   \n",
       "1  Heretic: Shadow of the Serpent Riders         2390             0    False   \n",
       "2                       Bloody Good Time         2450             0    False   \n",
       "3                         RIP - Trilogy™         2540             0    False   \n",
       "4                                   GUN™         2610            17    False   \n",
       "\n",
       "                                detailed_description  \\\n",
       "0  You are John Blade, commander of HardCorps, an...   \n",
       "1  <p>In a twisted medieval dimension, undead cre...   \n",
       "2  <p>Congratulations, you’ve just been cast in y...   \n",
       "3  With the completion of the third title in the ...   \n",
       "4  When life robs Colton White of all that matter...   \n",
       "\n",
       "                                      about_the_game  \\\n",
       "0  You are John Blade, commander of HardCorps, an...   \n",
       "1  <p>In a twisted medieval dimension, undead cre...   \n",
       "2  <p>Congratulations, you’ve just been cast in y...   \n",
       "3  With the completion of the third title in the ...   \n",
       "4  When life robs Colton White of all that matter...   \n",
       "\n",
       "                                   short_description  \\\n",
       "0  You are John Blade, commander of HardCorps, an...   \n",
       "1  In a twisted medieval dimension, undead creatu...   \n",
       "2  Congratulations, you’ve just been cast in your...   \n",
       "3  With the completion of the third title in the ...   \n",
       "4  When life robs Colton White of all that matter...   \n",
       "\n",
       "        supported_languages  \\\n",
       "0  English, Russian, French   \n",
       "1                   English   \n",
       "2                   English   \n",
       "3                   English   \n",
       "4                   English   \n",
       "\n",
       "                                        header_image website  \\\n",
       "0  https://cdn.akamai.steamstatic.com/steam/apps/...     NaN   \n",
       "1  https://cdn.akamai.steamstatic.com/steam/apps/...     NaN   \n",
       "2  https://cdn.akamai.steamstatic.com/steam/apps/...     NaN   \n",
       "3  https://cdn.akamai.steamstatic.com/steam/apps/...     NaN   \n",
       "4  https://cdn.akamai.steamstatic.com/steam/apps/...     NaN   \n",
       "\n",
       "                                     pc_requirements mac_requirements  \\\n",
       "0  {'minimum': '\\r\\n\\t\\t\\t<p><strong>Minimum:</st...               []   \n",
       "1  {'minimum': '<p><strong>Minimum: </strong>A 10...               []   \n",
       "2  {'minimum': '<strong>Minimum</strong>\\n\\t\\t\\t\\...               []   \n",
       "3  {'minimum': '<strong>Minimum: </strong>Windows...               []   \n",
       "4  {'minimum': '<strong>Minimum</strong> 3D hardw...               []   \n",
       "\n",
       "  linux_requirements                developers                publishers  \\\n",
       "0                 []  ['Ritual Entertainment']  ['Ritual Entertainment']   \n",
       "1                 []        ['Raven Software']           ['id Software']   \n",
       "2                 []       ['Outerlight Ltd.']               ['Ubisoft']   \n",
       "3                 []        ['Elephant Games']                      ['']   \n",
       "4                 []             ['Neversoft']            ['Activision']   \n",
       "\n",
       "                                      price_overview    packages  \\\n",
       "0  {'currency': 'USD', 'initial': 999, 'final': 9...    [443649]   \n",
       "1  {'currency': 'USD', 'initial': 499, 'final': 4...  [435, 439]   \n",
       "2  {'currency': 'USD', 'initial': 499, 'final': 4...      [6530]   \n",
       "3  {'currency': 'USD', 'initial': 499, 'final': 4...       [346]   \n",
       "4  {'currency': 'USD', 'initial': 1999, 'final': ...       [174]   \n",
       "\n",
       "                                      package_groups  \\\n",
       "0  [{'name': 'default', 'title': 'Buy SiN Episode...   \n",
       "1  [{'name': 'default', 'title': 'Buy Heretic: Sh...   \n",
       "2  [{'name': 'default', 'title': 'Buy Bloody Good...   \n",
       "3  [{'name': 'default', 'title': 'Buy RIP - Trilo...   \n",
       "4  [{'name': 'default', 'title': 'Buy GUN™', 'des...   \n",
       "\n",
       "                                         platforms  \\\n",
       "0  {'windows': True, 'mac': False, 'linux': False}   \n",
       "1  {'windows': True, 'mac': False, 'linux': False}   \n",
       "2  {'windows': True, 'mac': False, 'linux': False}   \n",
       "3  {'windows': True, 'mac': False, 'linux': False}   \n",
       "4  {'windows': True, 'mac': False, 'linux': False}   \n",
       "\n",
       "                                          categories  \\\n",
       "0  [{'id': 2, 'description': 'Single-player'}, {'...   \n",
       "1  [{'id': 2, 'description': 'Single-player'}, {'...   \n",
       "2  [{'id': 2, 'description': 'Single-player'}, {'...   \n",
       "3  [{'id': 2, 'description': 'Single-player'}, {'...   \n",
       "4        [{'id': 2, 'description': 'Single-player'}]   \n",
       "\n",
       "                                              genres  \\\n",
       "0             [{'id': '1', 'description': 'Action'}]   \n",
       "1             [{'id': '1', 'description': 'Action'}]   \n",
       "2             [{'id': '1', 'description': 'Action'}]   \n",
       "3  [{'id': '4', 'description': 'Casual'}, {'id': ...   \n",
       "4             [{'id': '1', 'description': 'Action'}]   \n",
       "\n",
       "                                         screenshots movies  recommendations  \\\n",
       "0  [{'id': 0, 'path_thumbnail': 'https://cdn.akam...    NaN   {'total': 445}   \n",
       "1  [{'id': 0, 'path_thumbnail': 'https://cdn.akam...    NaN   {'total': 637}   \n",
       "2  [{'id': 0, 'path_thumbnail': 'https://cdn.akam...    NaN   {'total': 790}   \n",
       "3  [{'id': 0, 'path_thumbnail': 'https://cdn.akam...    NaN   {'total': 234}   \n",
       "4  [{'id': 0, 'path_thumbnail': 'https://cdn.akam...    NaN  {'total': 1059}   \n",
       "\n",
       "                                        achievements  \\\n",
       "0                                                NaN   \n",
       "1                                                NaN   \n",
       "2  {'total': 12, 'highlighted': [{'name': 'First ...   \n",
       "3                                                NaN   \n",
       "4                                                NaN   \n",
       "\n",
       "                                     release_date              support_info  \\\n",
       "0  {'coming_soon': False, 'date': 'May 10, 2006'}  {'url': '', 'email': ''}   \n",
       "1   {'coming_soon': False, 'date': 'Aug 3, 2007'}  {'url': '', 'email': ''}   \n",
       "2  {'coming_soon': False, 'date': 'Oct 29, 2010'}  {'url': '', 'email': ''}   \n",
       "3   {'coming_soon': False, 'date': 'Jun 1, 2007'}  {'url': '', 'email': ''}   \n",
       "4  {'coming_soon': False, 'date': 'Oct 13, 2006'}  {'url': '', 'email': ''}   \n",
       "\n",
       "                                          background  \\\n",
       "0  https://cdn.akamai.steamstatic.com/steam/apps/...   \n",
       "1  https://cdn.akamai.steamstatic.com/steam/apps/...   \n",
       "2  https://cdn.akamai.steamstatic.com/steam/apps/...   \n",
       "3  https://cdn.akamai.steamstatic.com/steam/apps/...   \n",
       "4  https://cdn.akamai.steamstatic.com/steam/apps/...   \n",
       "\n",
       "          content_descriptors  \n",
       "0  {'ids': [], 'notes': None}  \n",
       "1  {'ids': [], 'notes': None}  \n",
       "2  {'ids': [], 'notes': None}  \n",
       "3  {'ids': [], 'notes': None}  \n",
       "4  {'ids': [], 'notes': None}  "
      ],
      "text/html": "<div>\n<style scoped>\n    .dataframe tbody tr th:only-of-type {\n        vertical-align: middle;\n    }\n\n    .dataframe tbody tr th {\n        vertical-align: top;\n    }\n\n    .dataframe thead th {\n        text-align: right;\n    }\n</style>\n<table border=\"1\" class=\"dataframe\">\n  <thead>\n    <tr style=\"text-align: right;\">\n      <th></th>\n      <th>name</th>\n      <th>steam_appid</th>\n      <th>required_age</th>\n      <th>is_free</th>\n      <th>detailed_description</th>\n      <th>about_the_game</th>\n      <th>short_description</th>\n      <th>supported_languages</th>\n      <th>header_image</th>\n      <th>website</th>\n      <th>pc_requirements</th>\n      <th>mac_requirements</th>\n      <th>linux_requirements</th>\n      <th>developers</th>\n      <th>publishers</th>\n      <th>price_overview</th>\n      <th>packages</th>\n      <th>package_groups</th>\n      <th>platforms</th>\n      <th>categories</th>\n      <th>genres</th>\n      <th>screenshots</th>\n      <th>movies</th>\n      <th>recommendations</th>\n      <th>achievements</th>\n      <th>release_date</th>\n      <th>support_info</th>\n      <th>background</th>\n      <th>content_descriptors</th>\n    </tr>\n  </thead>\n  <tbody>\n    <tr>\n      <th>0</th>\n      <td>SiN Episodes: Emergence</td>\n      <td>1300</td>\n      <td>0</td>\n      <td>False</td>\n      <td>You are John Blade, commander of HardCorps, an...</td>\n      <td>You are John Blade, commander of HardCorps, an...</td>\n      <td>You are John Blade, commander of HardCorps, an...</td>\n      <td>English, Russian, French</td>\n      <td>https://cdn.akamai.steamstatic.com/steam/apps/...</td>\n      <td>NaN</td>\n      <td>{'minimum': '\\r\\n\\t\\t\\t&lt;p&gt;&lt;strong&gt;Minimum:&lt;/st...</td>\n      <td>[]</td>\n      <td>[]</td>\n      <td>['Ritual Entertainment']</td>\n      <td>['Ritual Entertainment']</td>\n      <td>{'currency': 'USD', 'initial': 999, 'final': 9...</td>\n      <td>[443649]</td>\n      <td>[{'name': 'default', 'title': 'Buy SiN Episode...</td>\n      <td>{'windows': True, 'mac': False, 'linux': False}</td>\n      <td>[{'id': 2, 'description': 'Single-player'}, {'...</td>\n      <td>[{'id': '1', 'description': 'Action'}]</td>\n      <td>[{'id': 0, 'path_thumbnail': 'https://cdn.akam...</td>\n      <td>NaN</td>\n      <td>{'total': 445}</td>\n      <td>NaN</td>\n      <td>{'coming_soon': False, 'date': 'May 10, 2006'}</td>\n      <td>{'url': '', 'email': ''}</td>\n      <td>https://cdn.akamai.steamstatic.com/steam/apps/...</td>\n      <td>{'ids': [], 'notes': None}</td>\n    </tr>\n    <tr>\n      <th>1</th>\n      <td>Heretic: Shadow of the Serpent Riders</td>\n      <td>2390</td>\n      <td>0</td>\n      <td>False</td>\n      <td>&lt;p&gt;In a twisted medieval dimension, undead cre...</td>\n      <td>&lt;p&gt;In a twisted medieval dimension, undead cre...</td>\n      <td>In a twisted medieval dimension, undead creatu...</td>\n      <td>English</td>\n      <td>https://cdn.akamai.steamstatic.com/steam/apps/...</td>\n      <td>NaN</td>\n      <td>{'minimum': '&lt;p&gt;&lt;strong&gt;Minimum: &lt;/strong&gt;A 10...</td>\n      <td>[]</td>\n      <td>[]</td>\n      <td>['Raven Software']</td>\n      <td>['id Software']</td>\n      <td>{'currency': 'USD', 'initial': 499, 'final': 4...</td>\n      <td>[435, 439]</td>\n      <td>[{'name': 'default', 'title': 'Buy Heretic: Sh...</td>\n      <td>{'windows': True, 'mac': False, 'linux': False}</td>\n      <td>[{'id': 2, 'description': 'Single-player'}, {'...</td>\n      <td>[{'id': '1', 'description': 'Action'}]</td>\n      <td>[{'id': 0, 'path_thumbnail': 'https://cdn.akam...</td>\n      <td>NaN</td>\n      <td>{'total': 637}</td>\n      <td>NaN</td>\n      <td>{'coming_soon': False, 'date': 'Aug 3, 2007'}</td>\n      <td>{'url': '', 'email': ''}</td>\n      <td>https://cdn.akamai.steamstatic.com/steam/apps/...</td>\n      <td>{'ids': [], 'notes': None}</td>\n    </tr>\n    <tr>\n      <th>2</th>\n      <td>Bloody Good Time</td>\n      <td>2450</td>\n      <td>0</td>\n      <td>False</td>\n      <td>&lt;p&gt;Congratulations, you’ve just been cast in y...</td>\n      <td>&lt;p&gt;Congratulations, you’ve just been cast in y...</td>\n      <td>Congratulations, you’ve just been cast in your...</td>\n      <td>English</td>\n      <td>https://cdn.akamai.steamstatic.com/steam/apps/...</td>\n      <td>NaN</td>\n      <td>{'minimum': '&lt;strong&gt;Minimum&lt;/strong&gt;\\n\\t\\t\\t\\...</td>\n      <td>[]</td>\n      <td>[]</td>\n      <td>['Outerlight Ltd.']</td>\n      <td>['Ubisoft']</td>\n      <td>{'currency': 'USD', 'initial': 499, 'final': 4...</td>\n      <td>[6530]</td>\n      <td>[{'name': 'default', 'title': 'Buy Bloody Good...</td>\n      <td>{'windows': True, 'mac': False, 'linux': False}</td>\n      <td>[{'id': 2, 'description': 'Single-player'}, {'...</td>\n      <td>[{'id': '1', 'description': 'Action'}]</td>\n      <td>[{'id': 0, 'path_thumbnail': 'https://cdn.akam...</td>\n      <td>NaN</td>\n      <td>{'total': 790}</td>\n      <td>{'total': 12, 'highlighted': [{'name': 'First ...</td>\n      <td>{'coming_soon': False, 'date': 'Oct 29, 2010'}</td>\n      <td>{'url': '', 'email': ''}</td>\n      <td>https://cdn.akamai.steamstatic.com/steam/apps/...</td>\n      <td>{'ids': [], 'notes': None}</td>\n    </tr>\n    <tr>\n      <th>3</th>\n      <td>RIP - Trilogy™</td>\n      <td>2540</td>\n      <td>0</td>\n      <td>False</td>\n      <td>With the completion of the third title in the ...</td>\n      <td>With the completion of the third title in the ...</td>\n      <td>With the completion of the third title in the ...</td>\n      <td>English</td>\n      <td>https://cdn.akamai.steamstatic.com/steam/apps/...</td>\n      <td>NaN</td>\n      <td>{'minimum': '&lt;strong&gt;Minimum: &lt;/strong&gt;Windows...</td>\n      <td>[]</td>\n      <td>[]</td>\n      <td>['Elephant Games']</td>\n      <td>['']</td>\n      <td>{'currency': 'USD', 'initial': 499, 'final': 4...</td>\n      <td>[346]</td>\n      <td>[{'name': 'default', 'title': 'Buy RIP - Trilo...</td>\n      <td>{'windows': True, 'mac': False, 'linux': False}</td>\n      <td>[{'id': 2, 'description': 'Single-player'}, {'...</td>\n      <td>[{'id': '4', 'description': 'Casual'}, {'id': ...</td>\n      <td>[{'id': 0, 'path_thumbnail': 'https://cdn.akam...</td>\n      <td>NaN</td>\n      <td>{'total': 234}</td>\n      <td>NaN</td>\n      <td>{'coming_soon': False, 'date': 'Jun 1, 2007'}</td>\n      <td>{'url': '', 'email': ''}</td>\n      <td>https://cdn.akamai.steamstatic.com/steam/apps/...</td>\n      <td>{'ids': [], 'notes': None}</td>\n    </tr>\n    <tr>\n      <th>4</th>\n      <td>GUN™</td>\n      <td>2610</td>\n      <td>17</td>\n      <td>False</td>\n      <td>When life robs Colton White of all that matter...</td>\n      <td>When life robs Colton White of all that matter...</td>\n      <td>When life robs Colton White of all that matter...</td>\n      <td>English</td>\n      <td>https://cdn.akamai.steamstatic.com/steam/apps/...</td>\n      <td>NaN</td>\n      <td>{'minimum': '&lt;strong&gt;Minimum&lt;/strong&gt; 3D hardw...</td>\n      <td>[]</td>\n      <td>[]</td>\n      <td>['Neversoft']</td>\n      <td>['Activision']</td>\n      <td>{'currency': 'USD', 'initial': 1999, 'final': ...</td>\n      <td>[174]</td>\n      <td>[{'name': 'default', 'title': 'Buy GUN™', 'des...</td>\n      <td>{'windows': True, 'mac': False, 'linux': False}</td>\n      <td>[{'id': 2, 'description': 'Single-player'}]</td>\n      <td>[{'id': '1', 'description': 'Action'}]</td>\n      <td>[{'id': 0, 'path_thumbnail': 'https://cdn.akam...</td>\n      <td>NaN</td>\n      <td>{'total': 1059}</td>\n      <td>NaN</td>\n      <td>{'coming_soon': False, 'date': 'Oct 13, 2006'}</td>\n      <td>{'url': '', 'email': ''}</td>\n      <td>https://cdn.akamai.steamstatic.com/steam/apps/...</td>\n      <td>{'ids': [], 'notes': None}</td>\n    </tr>\n  </tbody>\n</table>\n</div>"
     },
     "metadata": {},
     "execution_count": 9
    }
   ],
   "source": [
    "def drop_null_cols(df, thresh=0.5):\n",
    "    \"\"\"Drop columns with more than a certain proportion of missing values (Default 50%).\"\"\"\n",
    "    cutoff_count = len(df) * thresh\n",
    "    \n",
    "    return df.dropna(thresh=cutoff_count, axis=1)\n",
    "\n",
    "\n",
    "def process_name_type(df):\n",
    "    \"\"\"Remove null values in name and type columns, and remove type column.\"\"\"\n",
    "    df = df[df['type'].notnull()]\n",
    "    \n",
    "    df = df[df['name'].notnull()]\n",
    "    df = df[df['name'] != 'none']\n",
    "    \n",
    "    df = df.drop('type', axis=1)\n",
    "    \n",
    "    return df\n",
    "    \n",
    "\n",
    "def process(df):\n",
    "    \"\"\"Process data set. Will eventually contain calls to all functions we write.\"\"\"\n",
    "    \n",
    "    # Copy the input dataframe to avoid accidentally modifying original data\n",
    "    df = df.copy()\n",
    "    \n",
    "    # Remove duplicate rows - all appids should be unique\n",
    "    df = df.drop_duplicates()\n",
    "    \n",
    "    # Remove collumns with more than 50% null values\n",
    "    df = drop_null_cols(df)\n",
    "    \n",
    "    # Process rest of columns\n",
    "    df = process_name_type(df)\n",
    "    \n",
    "    return df\n",
    "\n",
    "print(raw_steam_data.shape)\n",
    "initial_processing = process(raw_steam_data)\n",
    "print(initial_processing.shape)\n",
    "initial_processing.head()"
   ]
  },
  {
   "cell_type": "code",
   "execution_count": 10,
   "metadata": {},
   "outputs": [
    {
     "output_type": "execute_result",
     "data": {
      "text/plain": [
       "0     956\n",
       "10      1\n",
       "12      2\n",
       "13      7\n",
       "16      3\n",
       "17     27\n",
       "18      3\n",
       "21      1\n",
       "Name: required_age, dtype: int64"
      ]
     },
     "metadata": {},
     "execution_count": 10
    }
   ],
   "source": [
    "initial_processing['required_age'].value_counts(dropna=False).sort_index()"
   ]
  },
  {
   "cell_type": "code",
   "execution_count": 11,
   "metadata": {},
   "outputs": [
    {
     "output_type": "execute_result",
     "data": {
      "text/plain": [
       "0     956\n",
       "10      3\n",
       "13     10\n",
       "17     30\n",
       "18      1\n",
       "Name: required_age, dtype: int64"
      ]
     },
     "metadata": {},
     "execution_count": 11
    }
   ],
   "source": [
    "def process_age(df):\n",
    "    \"\"\"Format ratings in age column to be in line with the ESRB Age Ratings system.\"\"\"\n",
    "    # ESRB Age ratings: 10, 13, 17, 18\n",
    "    cut_points = [-1, 0, 12, 16, 19, 21]\n",
    "    label_values = [0, 10, 13, 17, 18]\n",
    "    \n",
    "    df['required_age'] = pd.cut(df['required_age'], bins=cut_points, labels=label_values)\n",
    "    \n",
    "    return df\n",
    "\n",
    "\n",
    "age_df = process_age(initial_processing)\n",
    "age_df['required_age'].value_counts().sort_index()"
   ]
  },
  {
   "cell_type": "code",
   "execution_count": 12,
   "metadata": {},
   "outputs": [
    {
     "output_type": "execute_result",
     "data": {
      "text/plain": [
       "0    {'currency': 'USD', 'initial': 999, 'final': 9...\n",
       "1    {'currency': 'USD', 'initial': 499, 'final': 4...\n",
       "2    {'currency': 'USD', 'initial': 499, 'final': 4...\n",
       "3    {'currency': 'USD', 'initial': 499, 'final': 4...\n",
       "4    {'currency': 'USD', 'initial': 1999, 'final': ...\n",
       "Name: price_overview, dtype: object"
      ]
     },
     "metadata": {},
     "execution_count": 12
    }
   ],
   "source": [
    "age_df['price_overview'].head()"
   ]
  },
  {
   "cell_type": "code",
   "execution_count": 13,
   "metadata": {},
   "outputs": [
    {
     "output_type": "execute_result",
     "data": {
      "text/plain": [
       "0    {'windows': True, 'mac': False, 'linux': False}\n",
       "1    {'windows': True, 'mac': False, 'linux': False}\n",
       "2    {'windows': True, 'mac': False, 'linux': False}\n",
       "3    {'windows': True, 'mac': False, 'linux': False}\n",
       "4    {'windows': True, 'mac': False, 'linux': False}\n",
       "Name: platforms, dtype: object"
      ]
     },
     "metadata": {},
     "execution_count": 13
    }
   ],
   "source": [
    "age_df['platforms'].head()"
   ]
  },
  {
   "cell_type": "code",
   "execution_count": 14,
   "metadata": {},
   "outputs": [
    {
     "output_type": "stream",
     "name": "stdout",
     "text": [
      "<class 'str'>\n"
     ]
    },
    {
     "output_type": "execute_result",
     "data": {
      "text/plain": [
       "\"{'windows': True, 'mac': False, 'linux': False}\""
      ]
     },
     "metadata": {},
     "execution_count": 14
    }
   ],
   "source": [
    "platforms_first_row = age_df['platforms'].iloc[0]\n",
    "\n",
    "print(type(platforms_first_row))\n",
    "\n",
    "platforms_first_row"
   ]
  },
  {
   "cell_type": "code",
   "execution_count": 15,
   "metadata": {},
   "outputs": [
    {
     "output_type": "stream",
     "name": "stdout",
     "text": [
      "<class 'dict'>\n{'windows': True, 'mac': False, 'linux': False}\n"
     ]
    },
    {
     "output_type": "execute_result",
     "data": {
      "text/plain": [
       "True"
      ]
     },
     "metadata": {},
     "execution_count": 15
    }
   ],
   "source": [
    "# Warning It is possible to crash the Python interpreter with a sufficiently large/complex string due to stack depth limitations in Python’s AST compiler.\n",
    "\n",
    "eval_first_row = literal_eval(platforms_first_row)\n",
    "\n",
    "print(type(eval_first_row))\n",
    "print(eval_first_row)\n",
    "\n",
    "eval_first_row['windows']"
   ]
  },
  {
   "cell_type": "code",
   "execution_count": 16,
   "metadata": {},
   "outputs": [
    {
     "output_type": "execute_result",
     "data": {
      "text/plain": [
       "0"
      ]
     },
     "metadata": {},
     "execution_count": 16
    }
   ],
   "source": [
    "age_df['platforms'].isnull().sum()\n"
   ]
  },
  {
   "cell_type": "code",
   "execution_count": 17,
   "metadata": {},
   "outputs": [
    {
     "output_type": "execute_result",
     "data": {
      "text/plain": [
       "'windows;mac;linux'"
      ]
     },
     "metadata": {},
     "execution_count": 17
    }
   ],
   "source": [
    "# create string of keys, joined on a semi-colon\n",
    "';'.join(eval_first_row.keys())"
   ]
  },
  {
   "cell_type": "code",
   "execution_count": 18,
   "metadata": {},
   "outputs": [
    {
     "output_type": "stream",
     "name": "stdout",
     "text": [
      "['windows', 'mac']\n"
     ]
    },
    {
     "output_type": "execute_result",
     "data": {
      "text/plain": [
       "'windows;mac'"
      ]
     },
     "metadata": {},
     "execution_count": 18
    }
   ],
   "source": [
    "platforms = {'windows': True, 'mac': True, 'linux': False}\n",
    "\n",
    "# list comprehension\n",
    "print([x for x in platforms.keys() if platforms[x]])\n",
    "\n",
    "# using list comprehension in join\n",
    "';'.join(x for x in platforms.keys() if platforms[x])"
   ]
  },
  {
   "cell_type": "code",
   "execution_count": 19,
   "metadata": {},
   "outputs": [
    {
     "output_type": "execute_result",
     "data": {
      "text/plain": [
       "windows              612\n",
       "windows;mac;linux    220\n",
       "windows;mac          145\n",
       "windows;linux         23\n",
       "Name: platforms, dtype: int64"
      ]
     },
     "metadata": {},
     "execution_count": 19
    }
   ],
   "source": [
    "def process_platforms(df):\n",
    "    \"\"\"Split platforms column into separate boolean columns for each platform.\"\"\"\n",
    "    # evaluate values in platforms column, so can index into dictionaries\n",
    "    df = df.copy()\n",
    "    \n",
    "    def parse_platforms(x):\n",
    "        \n",
    "        d = literal_eval(x)\n",
    "        \n",
    "        return ';'.join(platform for platform in d.keys() if d[platform])\n",
    "    \n",
    "    df['platforms'] = df['platforms'].apply(parse_platforms)\n",
    "    \n",
    "    return df\n",
    "\n",
    "\n",
    "platforms_df = process_platforms(age_df)\n",
    "platforms_df['platforms'].value_counts()"
   ]
  },
  {
   "cell_type": "code",
   "execution_count": 20,
   "metadata": {},
   "outputs": [
    {
     "output_type": "execute_result",
     "data": {
      "text/plain": [
       "262"
      ]
     },
     "metadata": {},
     "execution_count": 20
    }
   ],
   "source": [
    "platforms_df['price_overview'].isnull().sum()\n"
   ]
  },
  {
   "cell_type": "code",
   "execution_count": 21,
   "metadata": {},
   "outputs": [
    {
     "output_type": "execute_result",
     "data": {
      "text/plain": [
       "225"
      ]
     },
     "metadata": {},
     "execution_count": 21
    }
   ],
   "source": [
    "free_and_null_price = platforms_df[(platforms_df['is_free']) & (platforms_df['price_overview'].isnull())]\n",
    "\n",
    "free_and_null_price.shape[0]"
   ]
  },
  {
   "cell_type": "code",
   "execution_count": 22,
   "metadata": {},
   "outputs": [
    {
     "output_type": "execute_result",
     "data": {
      "text/plain": [
       "                                                  name  steam_appid  \\\n",
       "40                       Sam & Max 301: The Penal Zone        31220   \n",
       "41                                  Iron Grip: Warlord        31700   \n",
       "104                                          Sine Mora       207040   \n",
       "106                                       Hero Academy       209270   \n",
       "128  Teenage Mutant Ninja Turtles™: Out of the Shadows       228560   \n",
       "\n",
       "    required_age  is_free                               detailed_description  \\\n",
       "40             0    False  Wield psychic powers against fearsome foes in ...   \n",
       "41             0    False  Iron Grip: Warlord invigorates tower defense w...   \n",
       "104           17    False  Sine Mora is a horizontal shoot'em up that pro...   \n",
       "106            0    False  <h1>Hero Academy 2 Now Available!</h1><p>Hero ...   \n",
       "128            0    False  Teenage Mutant Ninja Turtles: Out of the Shado...   \n",
       "\n",
       "                                        about_the_game  \\\n",
       "40   Wield psychic powers against fearsome foes in ...   \n",
       "41   Iron Grip: Warlord invigorates tower defense w...   \n",
       "104  Sine Mora is a horizontal shoot'em up that pro...   \n",
       "106  <strong>Includes the Council and TF2 teams, 17...   \n",
       "128  Teenage Mutant Ninja Turtles: Out of the Shado...   \n",
       "\n",
       "                                     short_description  \\\n",
       "40   Wield psychic powers against fearsome foes in ...   \n",
       "41   Iron Grip: Warlord invigorates tower defense w...   \n",
       "104  Sine Mora is a horizontal shoot'em up that pro...   \n",
       "106  Test your skills in this light-hearted battle ...   \n",
       "128  Teenage Mutant Ninja Turtles: Out of the Shado...   \n",
       "\n",
       "                                   supported_languages  \\\n",
       "40   English<strong>*</strong><br><strong>*</strong...   \n",
       "41                                             English   \n",
       "104  English, German, French, Italian, Spanish - Sp...   \n",
       "106  English<strong>*</strong>, German<strong>*</st...   \n",
       "128  English<strong>*</strong>, French, Italian, Ge...   \n",
       "\n",
       "                                          header_image  \\\n",
       "40   https://cdn.akamai.steamstatic.com/steam/apps/...   \n",
       "41   https://cdn.akamai.steamstatic.com/steam/apps/...   \n",
       "104  https://cdn.akamai.steamstatic.com/steam/apps/...   \n",
       "106  https://cdn.akamai.steamstatic.com/steam/apps/...   \n",
       "128  https://cdn.akamai.steamstatic.com/steam/apps/...   \n",
       "\n",
       "                                               website  \\\n",
       "40           http://store.steampowered.com/app/901399/   \n",
       "41                                http://igwarlord.com   \n",
       "104                                                NaN   \n",
       "106  http://www.robotentertainment.com/games/heroac...   \n",
       "128       https://www.facebook.com/TMNTOutOfTheShadows   \n",
       "\n",
       "                                       pc_requirements  \\\n",
       "40                                                  []   \n",
       "41   {'minimum': '<ul class=\"bb_ul\"><li><strong>OS:...   \n",
       "104  {'minimum': '<strong>Minimum:</strong><br><ul ...   \n",
       "106  {'minimum': 'OS: Windows XP, Windows Vista, Wi...   \n",
       "128  {'minimum': '<strong>Minimum:</strong><br><ul ...   \n",
       "\n",
       "                                      mac_requirements  \\\n",
       "40                                                  []   \n",
       "41                                                  []   \n",
       "104                                                 []   \n",
       "106  {'minimum': '<ul class=\"bb_ul\"><li><strong>OS:...   \n",
       "128                                                 []   \n",
       "\n",
       "                                    linux_requirements  \\\n",
       "40                                                  []   \n",
       "41                                                  []   \n",
       "104                                                 []   \n",
       "106  {'minimum': 'Video Card: Any OpenGL 2.1+ capab...   \n",
       "128                                                 []   \n",
       "\n",
       "                  developers               publishers price_overview  \\\n",
       "40        ['Telltale Games']       ['Skunkape Games']            NaN   \n",
       "41                 ['ISOTX']                ['ISOTX']            NaN   \n",
       "104      ['Digital Reality']           ['HandyGames']            NaN   \n",
       "106  ['Robot Entertainment']  ['Robot Entertainment']            NaN   \n",
       "128                      NaN           ['Activision']            NaN   \n",
       "\n",
       "           packages                                     package_groups  \\\n",
       "40   [109585, 4172]  [{'name': 'default', 'title': 'Buy Sam & Max 3...   \n",
       "41              NaN                                                 []   \n",
       "104        [160555]  [{'name': 'default', 'title': 'Buy Sine Mora',...   \n",
       "106             NaN                                                 []   \n",
       "128             NaN                                                 []   \n",
       "\n",
       "             platforms                                         categories  \\\n",
       "40             windows        [{'id': 2, 'description': 'Single-player'}]   \n",
       "41             windows  [{'id': 2, 'description': 'Single-player'}, {'...   \n",
       "104            windows  [{'id': 2, 'description': 'Single-player'}, {'...   \n",
       "106  windows;mac;linux  [{'id': 2, 'description': 'Single-player'}, {'...   \n",
       "128            windows  [{'id': 2, 'description': 'Single-player'}, {'...   \n",
       "\n",
       "                                                genres  \\\n",
       "40   [{'id': '1', 'description': 'Action'}, {'id': ...   \n",
       "41   [{'id': '1', 'description': 'Action'}, {'id': ...   \n",
       "104  [{'id': '1', 'description': 'Action'}, {'id': ...   \n",
       "106  [{'id': '23', 'description': 'Indie'}, {'id': ...   \n",
       "128             [{'id': '1', 'description': 'Action'}]   \n",
       "\n",
       "                                           screenshots  \\\n",
       "40   [{'id': 0, 'path_thumbnail': 'https://cdn.akam...   \n",
       "41   [{'id': 0, 'path_thumbnail': 'https://cdn.akam...   \n",
       "104  [{'id': 0, 'path_thumbnail': 'https://cdn.akam...   \n",
       "106  [{'id': 0, 'path_thumbnail': 'https://cdn.akam...   \n",
       "128  [{'id': 0, 'path_thumbnail': 'https://cdn.akam...   \n",
       "\n",
       "                                                movies recommendations  \\\n",
       "40                                                 NaN  {'total': 228}   \n",
       "41                                                 NaN  {'total': 224}   \n",
       "104  [{'id': 2028093, 'name': 'Sine Mora Trailer', ...  {'total': 504}   \n",
       "106  [{'id': 81935, 'name': 'Hero Academy Trailer',...  {'total': 453}   \n",
       "128                                                NaN  {'total': 626}   \n",
       "\n",
       "                                          achievements  \\\n",
       "40                                                 NaN   \n",
       "41   {'total': 18, 'highlighted': [{'name': 'Have G...   \n",
       "104  {'total': 10, 'highlighted': [{'name': 'Nascen...   \n",
       "106  {'total': 69, 'highlighted': [{'name': 'Matrix...   \n",
       "128  {'total': 30, 'highlighted': [{'name': 'The Sw...   \n",
       "\n",
       "                                       release_date  \\\n",
       "40               {'coming_soon': False, 'date': ''}   \n",
       "41    {'coming_soon': False, 'date': 'Dec 5, 2008'}   \n",
       "104   {'coming_soon': False, 'date': 'Nov 9, 2012'}   \n",
       "106              {'coming_soon': False, 'date': ''}   \n",
       "128  {'coming_soon': False, 'date': 'Aug 28, 2013'}   \n",
       "\n",
       "                                          support_info  \\\n",
       "40   {'url': 'https://telltale.com/support/', 'emai...   \n",
       "41                            {'url': '', 'email': ''}   \n",
       "104  {'url': 'https://handy-games.com/contact/', 'e...   \n",
       "106  {'url': 'http://support.robotentertainment.com...   \n",
       "128  {'url': 'https://support.activision.com/', 'em...   \n",
       "\n",
       "                                            background  \\\n",
       "40   https://cdn.akamai.steamstatic.com/steam/apps/...   \n",
       "41   https://cdn.akamai.steamstatic.com/steam/apps/...   \n",
       "104  https://cdn.akamai.steamstatic.com/steam/apps/...   \n",
       "106  https://cdn.akamai.steamstatic.com/steam/apps/...   \n",
       "128  https://cdn.akamai.steamstatic.com/steam/apps/...   \n",
       "\n",
       "            content_descriptors  \n",
       "40   {'ids': [], 'notes': None}  \n",
       "41   {'ids': [], 'notes': None}  \n",
       "104  {'ids': [], 'notes': None}  \n",
       "106  {'ids': [], 'notes': None}  \n",
       "128  {'ids': [], 'notes': None}  "
      ],
      "text/html": "<div>\n<style scoped>\n    .dataframe tbody tr th:only-of-type {\n        vertical-align: middle;\n    }\n\n    .dataframe tbody tr th {\n        vertical-align: top;\n    }\n\n    .dataframe thead th {\n        text-align: right;\n    }\n</style>\n<table border=\"1\" class=\"dataframe\">\n  <thead>\n    <tr style=\"text-align: right;\">\n      <th></th>\n      <th>name</th>\n      <th>steam_appid</th>\n      <th>required_age</th>\n      <th>is_free</th>\n      <th>detailed_description</th>\n      <th>about_the_game</th>\n      <th>short_description</th>\n      <th>supported_languages</th>\n      <th>header_image</th>\n      <th>website</th>\n      <th>pc_requirements</th>\n      <th>mac_requirements</th>\n      <th>linux_requirements</th>\n      <th>developers</th>\n      <th>publishers</th>\n      <th>price_overview</th>\n      <th>packages</th>\n      <th>package_groups</th>\n      <th>platforms</th>\n      <th>categories</th>\n      <th>genres</th>\n      <th>screenshots</th>\n      <th>movies</th>\n      <th>recommendations</th>\n      <th>achievements</th>\n      <th>release_date</th>\n      <th>support_info</th>\n      <th>background</th>\n      <th>content_descriptors</th>\n    </tr>\n  </thead>\n  <tbody>\n    <tr>\n      <th>40</th>\n      <td>Sam &amp; Max 301: The Penal Zone</td>\n      <td>31220</td>\n      <td>0</td>\n      <td>False</td>\n      <td>Wield psychic powers against fearsome foes in ...</td>\n      <td>Wield psychic powers against fearsome foes in ...</td>\n      <td>Wield psychic powers against fearsome foes in ...</td>\n      <td>English&lt;strong&gt;*&lt;/strong&gt;&lt;br&gt;&lt;strong&gt;*&lt;/strong...</td>\n      <td>https://cdn.akamai.steamstatic.com/steam/apps/...</td>\n      <td>http://store.steampowered.com/app/901399/</td>\n      <td>[]</td>\n      <td>[]</td>\n      <td>[]</td>\n      <td>['Telltale Games']</td>\n      <td>['Skunkape Games']</td>\n      <td>NaN</td>\n      <td>[109585, 4172]</td>\n      <td>[{'name': 'default', 'title': 'Buy Sam &amp; Max 3...</td>\n      <td>windows</td>\n      <td>[{'id': 2, 'description': 'Single-player'}]</td>\n      <td>[{'id': '1', 'description': 'Action'}, {'id': ...</td>\n      <td>[{'id': 0, 'path_thumbnail': 'https://cdn.akam...</td>\n      <td>NaN</td>\n      <td>{'total': 228}</td>\n      <td>NaN</td>\n      <td>{'coming_soon': False, 'date': ''}</td>\n      <td>{'url': 'https://telltale.com/support/', 'emai...</td>\n      <td>https://cdn.akamai.steamstatic.com/steam/apps/...</td>\n      <td>{'ids': [], 'notes': None}</td>\n    </tr>\n    <tr>\n      <th>41</th>\n      <td>Iron Grip: Warlord</td>\n      <td>31700</td>\n      <td>0</td>\n      <td>False</td>\n      <td>Iron Grip: Warlord invigorates tower defense w...</td>\n      <td>Iron Grip: Warlord invigorates tower defense w...</td>\n      <td>Iron Grip: Warlord invigorates tower defense w...</td>\n      <td>English</td>\n      <td>https://cdn.akamai.steamstatic.com/steam/apps/...</td>\n      <td>http://igwarlord.com</td>\n      <td>{'minimum': '&lt;ul class=\"bb_ul\"&gt;&lt;li&gt;&lt;strong&gt;OS:...</td>\n      <td>[]</td>\n      <td>[]</td>\n      <td>['ISOTX']</td>\n      <td>['ISOTX']</td>\n      <td>NaN</td>\n      <td>NaN</td>\n      <td>[]</td>\n      <td>windows</td>\n      <td>[{'id': 2, 'description': 'Single-player'}, {'...</td>\n      <td>[{'id': '1', 'description': 'Action'}, {'id': ...</td>\n      <td>[{'id': 0, 'path_thumbnail': 'https://cdn.akam...</td>\n      <td>NaN</td>\n      <td>{'total': 224}</td>\n      <td>{'total': 18, 'highlighted': [{'name': 'Have G...</td>\n      <td>{'coming_soon': False, 'date': 'Dec 5, 2008'}</td>\n      <td>{'url': '', 'email': ''}</td>\n      <td>https://cdn.akamai.steamstatic.com/steam/apps/...</td>\n      <td>{'ids': [], 'notes': None}</td>\n    </tr>\n    <tr>\n      <th>104</th>\n      <td>Sine Mora</td>\n      <td>207040</td>\n      <td>17</td>\n      <td>False</td>\n      <td>Sine Mora is a horizontal shoot'em up that pro...</td>\n      <td>Sine Mora is a horizontal shoot'em up that pro...</td>\n      <td>Sine Mora is a horizontal shoot'em up that pro...</td>\n      <td>English, German, French, Italian, Spanish - Sp...</td>\n      <td>https://cdn.akamai.steamstatic.com/steam/apps/...</td>\n      <td>NaN</td>\n      <td>{'minimum': '&lt;strong&gt;Minimum:&lt;/strong&gt;&lt;br&gt;&lt;ul ...</td>\n      <td>[]</td>\n      <td>[]</td>\n      <td>['Digital Reality']</td>\n      <td>['HandyGames']</td>\n      <td>NaN</td>\n      <td>[160555]</td>\n      <td>[{'name': 'default', 'title': 'Buy Sine Mora',...</td>\n      <td>windows</td>\n      <td>[{'id': 2, 'description': 'Single-player'}, {'...</td>\n      <td>[{'id': '1', 'description': 'Action'}, {'id': ...</td>\n      <td>[{'id': 0, 'path_thumbnail': 'https://cdn.akam...</td>\n      <td>[{'id': 2028093, 'name': 'Sine Mora Trailer', ...</td>\n      <td>{'total': 504}</td>\n      <td>{'total': 10, 'highlighted': [{'name': 'Nascen...</td>\n      <td>{'coming_soon': False, 'date': 'Nov 9, 2012'}</td>\n      <td>{'url': 'https://handy-games.com/contact/', 'e...</td>\n      <td>https://cdn.akamai.steamstatic.com/steam/apps/...</td>\n      <td>{'ids': [], 'notes': None}</td>\n    </tr>\n    <tr>\n      <th>106</th>\n      <td>Hero Academy</td>\n      <td>209270</td>\n      <td>0</td>\n      <td>False</td>\n      <td>&lt;h1&gt;Hero Academy 2 Now Available!&lt;/h1&gt;&lt;p&gt;Hero ...</td>\n      <td>&lt;strong&gt;Includes the Council and TF2 teams, 17...</td>\n      <td>Test your skills in this light-hearted battle ...</td>\n      <td>English&lt;strong&gt;*&lt;/strong&gt;, German&lt;strong&gt;*&lt;/st...</td>\n      <td>https://cdn.akamai.steamstatic.com/steam/apps/...</td>\n      <td>http://www.robotentertainment.com/games/heroac...</td>\n      <td>{'minimum': 'OS: Windows XP, Windows Vista, Wi...</td>\n      <td>{'minimum': '&lt;ul class=\"bb_ul\"&gt;&lt;li&gt;&lt;strong&gt;OS:...</td>\n      <td>{'minimum': 'Video Card: Any OpenGL 2.1+ capab...</td>\n      <td>['Robot Entertainment']</td>\n      <td>['Robot Entertainment']</td>\n      <td>NaN</td>\n      <td>NaN</td>\n      <td>[]</td>\n      <td>windows;mac;linux</td>\n      <td>[{'id': 2, 'description': 'Single-player'}, {'...</td>\n      <td>[{'id': '23', 'description': 'Indie'}, {'id': ...</td>\n      <td>[{'id': 0, 'path_thumbnail': 'https://cdn.akam...</td>\n      <td>[{'id': 81935, 'name': 'Hero Academy Trailer',...</td>\n      <td>{'total': 453}</td>\n      <td>{'total': 69, 'highlighted': [{'name': 'Matrix...</td>\n      <td>{'coming_soon': False, 'date': ''}</td>\n      <td>{'url': 'http://support.robotentertainment.com...</td>\n      <td>https://cdn.akamai.steamstatic.com/steam/apps/...</td>\n      <td>{'ids': [], 'notes': None}</td>\n    </tr>\n    <tr>\n      <th>128</th>\n      <td>Teenage Mutant Ninja Turtles™: Out of the Shadows</td>\n      <td>228560</td>\n      <td>0</td>\n      <td>False</td>\n      <td>Teenage Mutant Ninja Turtles: Out of the Shado...</td>\n      <td>Teenage Mutant Ninja Turtles: Out of the Shado...</td>\n      <td>Teenage Mutant Ninja Turtles: Out of the Shado...</td>\n      <td>English&lt;strong&gt;*&lt;/strong&gt;, French, Italian, Ge...</td>\n      <td>https://cdn.akamai.steamstatic.com/steam/apps/...</td>\n      <td>https://www.facebook.com/TMNTOutOfTheShadows</td>\n      <td>{'minimum': '&lt;strong&gt;Minimum:&lt;/strong&gt;&lt;br&gt;&lt;ul ...</td>\n      <td>[]</td>\n      <td>[]</td>\n      <td>NaN</td>\n      <td>['Activision']</td>\n      <td>NaN</td>\n      <td>NaN</td>\n      <td>[]</td>\n      <td>windows</td>\n      <td>[{'id': 2, 'description': 'Single-player'}, {'...</td>\n      <td>[{'id': '1', 'description': 'Action'}]</td>\n      <td>[{'id': 0, 'path_thumbnail': 'https://cdn.akam...</td>\n      <td>NaN</td>\n      <td>{'total': 626}</td>\n      <td>{'total': 30, 'highlighted': [{'name': 'The Sw...</td>\n      <td>{'coming_soon': False, 'date': 'Aug 28, 2013'}</td>\n      <td>{'url': 'https://support.activision.com/', 'em...</td>\n      <td>https://cdn.akamai.steamstatic.com/steam/apps/...</td>\n      <td>{'ids': [], 'notes': None}</td>\n    </tr>\n  </tbody>\n</table>\n</div>"
     },
     "metadata": {},
     "execution_count": 22
    }
   ],
   "source": [
    "not_free_and_null_price = platforms_df[(platforms_df['is_free'] == False) & (platforms_df['price_overview'].isnull())]\n",
    "\n",
    "not_free_and_null_price.head()"
   ]
  },
  {
   "cell_type": "code",
   "execution_count": 23,
   "metadata": {},
   "outputs": [
    {
     "output_type": "stream",
     "name": "stdout",
     "text": [
      "Sam & Max 301: The Penal Zone: https://store.steampowered.com/app/31220\nIron Grip: Warlord: https://store.steampowered.com/app/31700\nSine Mora: https://store.steampowered.com/app/207040\nHero Academy: https://store.steampowered.com/app/209270\nTeenage Mutant Ninja Turtles™: Out of the Shadows: https://store.steampowered.com/app/228560\n"
     ]
    }
   ],
   "source": [
    "\n",
    "def print_steam_links(df):\n",
    "    \"\"\"Print links to store page for apps in a dataframe.\"\"\"\n",
    "    url_base = \"https://store.steampowered.com/app/\"\n",
    "    \n",
    "    for i, row in df.iterrows():\n",
    "        appid = row['steam_appid']\n",
    "        name = row['name']\n",
    "        \n",
    "        print(name + ':', url_base + str(appid))\n",
    "        \n",
    "\n",
    "print_steam_links(not_free_and_null_price[:5])"
   ]
  },
  {
   "cell_type": "code",
   "execution_count": 24,
   "metadata": {},
   "outputs": [
    {
     "output_type": "execute_result",
     "data": {
      "text/plain": [
       "\"{'currency': 'USD', 'initial': 999, 'final': 999, 'discount_percent': 0, 'initial_formatted': '', 'final_formatted': '$9.99'}\""
      ]
     },
     "metadata": {},
     "execution_count": 24
    }
   ],
   "source": [
    "platforms_df['price_overview'][0]"
   ]
  },
  {
   "cell_type": "code",
   "execution_count": 25,
   "metadata": {},
   "outputs": [
    {
     "output_type": "execute_result",
     "data": {
      "text/plain": [
       "\"{'currency': 'USD', 'initial': 499, 'final': 499, 'discount_percent': 0, 'initial_formatted': '', 'final_formatted': '$4.99'}\""
      ]
     },
     "metadata": {},
     "execution_count": 25
    }
   ],
   "source": [
    "platforms_df['price_overview'][67]"
   ]
  },
  {
   "cell_type": "code",
   "execution_count": 26,
   "metadata": {},
   "outputs": [
    {
     "output_type": "execute_result",
     "data": {
      "text/plain": [
       "                                    name  steam_appid required_age  is_free  \\\n",
       "0                SiN Episodes: Emergence         1300            0    False   \n",
       "1  Heretic: Shadow of the Serpent Riders         2390            0    False   \n",
       "2                       Bloody Good Time         2450            0    False   \n",
       "3                         RIP - Trilogy™         2540            0    False   \n",
       "4                                   GUN™         2610           17    False   \n",
       "\n",
       "                                detailed_description  \\\n",
       "0  You are John Blade, commander of HardCorps, an...   \n",
       "1  <p>In a twisted medieval dimension, undead cre...   \n",
       "2  <p>Congratulations, you’ve just been cast in y...   \n",
       "3  With the completion of the third title in the ...   \n",
       "4  When life robs Colton White of all that matter...   \n",
       "\n",
       "                                      about_the_game  \\\n",
       "0  You are John Blade, commander of HardCorps, an...   \n",
       "1  <p>In a twisted medieval dimension, undead cre...   \n",
       "2  <p>Congratulations, you’ve just been cast in y...   \n",
       "3  With the completion of the third title in the ...   \n",
       "4  When life robs Colton White of all that matter...   \n",
       "\n",
       "                                   short_description  \\\n",
       "0  You are John Blade, commander of HardCorps, an...   \n",
       "1  In a twisted medieval dimension, undead creatu...   \n",
       "2  Congratulations, you’ve just been cast in your...   \n",
       "3  With the completion of the third title in the ...   \n",
       "4  When life robs Colton White of all that matter...   \n",
       "\n",
       "        supported_languages  \\\n",
       "0  English, Russian, French   \n",
       "1                   English   \n",
       "2                   English   \n",
       "3                   English   \n",
       "4                   English   \n",
       "\n",
       "                                        header_image website  \\\n",
       "0  https://cdn.akamai.steamstatic.com/steam/apps/...     NaN   \n",
       "1  https://cdn.akamai.steamstatic.com/steam/apps/...     NaN   \n",
       "2  https://cdn.akamai.steamstatic.com/steam/apps/...     NaN   \n",
       "3  https://cdn.akamai.steamstatic.com/steam/apps/...     NaN   \n",
       "4  https://cdn.akamai.steamstatic.com/steam/apps/...     NaN   \n",
       "\n",
       "                                     pc_requirements mac_requirements  \\\n",
       "0  {'minimum': '\\r\\n\\t\\t\\t<p><strong>Minimum:</st...               []   \n",
       "1  {'minimum': '<p><strong>Minimum: </strong>A 10...               []   \n",
       "2  {'minimum': '<strong>Minimum</strong>\\n\\t\\t\\t\\...               []   \n",
       "3  {'minimum': '<strong>Minimum: </strong>Windows...               []   \n",
       "4  {'minimum': '<strong>Minimum</strong> 3D hardw...               []   \n",
       "\n",
       "  linux_requirements                developers                publishers  \\\n",
       "0                 []  ['Ritual Entertainment']  ['Ritual Entertainment']   \n",
       "1                 []        ['Raven Software']           ['id Software']   \n",
       "2                 []       ['Outerlight Ltd.']               ['Ubisoft']   \n",
       "3                 []        ['Elephant Games']                      ['']   \n",
       "4                 []             ['Neversoft']            ['Activision']   \n",
       "\n",
       "                                      price_overview    packages  \\\n",
       "0  {'currency': 'USD', 'initial': 999, 'final': 9...    [443649]   \n",
       "1  {'currency': 'USD', 'initial': 499, 'final': 4...  [435, 439]   \n",
       "2  {'currency': 'USD', 'initial': 499, 'final': 4...      [6530]   \n",
       "3  {'currency': 'USD', 'initial': 499, 'final': 4...       [346]   \n",
       "4  {'currency': 'USD', 'initial': 1999, 'final': ...       [174]   \n",
       "\n",
       "                                      package_groups platforms  \\\n",
       "0  [{'name': 'default', 'title': 'Buy SiN Episode...   windows   \n",
       "1  [{'name': 'default', 'title': 'Buy Heretic: Sh...   windows   \n",
       "2  [{'name': 'default', 'title': 'Buy Bloody Good...   windows   \n",
       "3  [{'name': 'default', 'title': 'Buy RIP - Trilo...   windows   \n",
       "4  [{'name': 'default', 'title': 'Buy GUN™', 'des...   windows   \n",
       "\n",
       "                                          categories  \\\n",
       "0  [{'id': 2, 'description': 'Single-player'}, {'...   \n",
       "1  [{'id': 2, 'description': 'Single-player'}, {'...   \n",
       "2  [{'id': 2, 'description': 'Single-player'}, {'...   \n",
       "3  [{'id': 2, 'description': 'Single-player'}, {'...   \n",
       "4        [{'id': 2, 'description': 'Single-player'}]   \n",
       "\n",
       "                                              genres  \\\n",
       "0             [{'id': '1', 'description': 'Action'}]   \n",
       "1             [{'id': '1', 'description': 'Action'}]   \n",
       "2             [{'id': '1', 'description': 'Action'}]   \n",
       "3  [{'id': '4', 'description': 'Casual'}, {'id': ...   \n",
       "4             [{'id': '1', 'description': 'Action'}]   \n",
       "\n",
       "                                         screenshots movies  recommendations  \\\n",
       "0  [{'id': 0, 'path_thumbnail': 'https://cdn.akam...    NaN   {'total': 445}   \n",
       "1  [{'id': 0, 'path_thumbnail': 'https://cdn.akam...    NaN   {'total': 637}   \n",
       "2  [{'id': 0, 'path_thumbnail': 'https://cdn.akam...    NaN   {'total': 790}   \n",
       "3  [{'id': 0, 'path_thumbnail': 'https://cdn.akam...    NaN   {'total': 234}   \n",
       "4  [{'id': 0, 'path_thumbnail': 'https://cdn.akam...    NaN  {'total': 1059}   \n",
       "\n",
       "                                        achievements  \\\n",
       "0                                                NaN   \n",
       "1                                                NaN   \n",
       "2  {'total': 12, 'highlighted': [{'name': 'First ...   \n",
       "3                                                NaN   \n",
       "4                                                NaN   \n",
       "\n",
       "                                     release_date              support_info  \\\n",
       "0  {'coming_soon': False, 'date': 'May 10, 2006'}  {'url': '', 'email': ''}   \n",
       "1   {'coming_soon': False, 'date': 'Aug 3, 2007'}  {'url': '', 'email': ''}   \n",
       "2  {'coming_soon': False, 'date': 'Oct 29, 2010'}  {'url': '', 'email': ''}   \n",
       "3   {'coming_soon': False, 'date': 'Jun 1, 2007'}  {'url': '', 'email': ''}   \n",
       "4  {'coming_soon': False, 'date': 'Oct 13, 2006'}  {'url': '', 'email': ''}   \n",
       "\n",
       "                                          background  \\\n",
       "0  https://cdn.akamai.steamstatic.com/steam/apps/...   \n",
       "1  https://cdn.akamai.steamstatic.com/steam/apps/...   \n",
       "2  https://cdn.akamai.steamstatic.com/steam/apps/...   \n",
       "3  https://cdn.akamai.steamstatic.com/steam/apps/...   \n",
       "4  https://cdn.akamai.steamstatic.com/steam/apps/...   \n",
       "\n",
       "          content_descriptors currency  price  \n",
       "0  {'ids': [], 'notes': None}      USD    999  \n",
       "1  {'ids': [], 'notes': None}      USD    499  \n",
       "2  {'ids': [], 'notes': None}      USD    499  \n",
       "3  {'ids': [], 'notes': None}      USD    499  \n",
       "4  {'ids': [], 'notes': None}      USD   1999  "
      ],
      "text/html": "<div>\n<style scoped>\n    .dataframe tbody tr th:only-of-type {\n        vertical-align: middle;\n    }\n\n    .dataframe tbody tr th {\n        vertical-align: top;\n    }\n\n    .dataframe thead th {\n        text-align: right;\n    }\n</style>\n<table border=\"1\" class=\"dataframe\">\n  <thead>\n    <tr style=\"text-align: right;\">\n      <th></th>\n      <th>name</th>\n      <th>steam_appid</th>\n      <th>required_age</th>\n      <th>is_free</th>\n      <th>detailed_description</th>\n      <th>about_the_game</th>\n      <th>short_description</th>\n      <th>supported_languages</th>\n      <th>header_image</th>\n      <th>website</th>\n      <th>pc_requirements</th>\n      <th>mac_requirements</th>\n      <th>linux_requirements</th>\n      <th>developers</th>\n      <th>publishers</th>\n      <th>price_overview</th>\n      <th>packages</th>\n      <th>package_groups</th>\n      <th>platforms</th>\n      <th>categories</th>\n      <th>genres</th>\n      <th>screenshots</th>\n      <th>movies</th>\n      <th>recommendations</th>\n      <th>achievements</th>\n      <th>release_date</th>\n      <th>support_info</th>\n      <th>background</th>\n      <th>content_descriptors</th>\n      <th>currency</th>\n      <th>price</th>\n    </tr>\n  </thead>\n  <tbody>\n    <tr>\n      <th>0</th>\n      <td>SiN Episodes: Emergence</td>\n      <td>1300</td>\n      <td>0</td>\n      <td>False</td>\n      <td>You are John Blade, commander of HardCorps, an...</td>\n      <td>You are John Blade, commander of HardCorps, an...</td>\n      <td>You are John Blade, commander of HardCorps, an...</td>\n      <td>English, Russian, French</td>\n      <td>https://cdn.akamai.steamstatic.com/steam/apps/...</td>\n      <td>NaN</td>\n      <td>{'minimum': '\\r\\n\\t\\t\\t&lt;p&gt;&lt;strong&gt;Minimum:&lt;/st...</td>\n      <td>[]</td>\n      <td>[]</td>\n      <td>['Ritual Entertainment']</td>\n      <td>['Ritual Entertainment']</td>\n      <td>{'currency': 'USD', 'initial': 999, 'final': 9...</td>\n      <td>[443649]</td>\n      <td>[{'name': 'default', 'title': 'Buy SiN Episode...</td>\n      <td>windows</td>\n      <td>[{'id': 2, 'description': 'Single-player'}, {'...</td>\n      <td>[{'id': '1', 'description': 'Action'}]</td>\n      <td>[{'id': 0, 'path_thumbnail': 'https://cdn.akam...</td>\n      <td>NaN</td>\n      <td>{'total': 445}</td>\n      <td>NaN</td>\n      <td>{'coming_soon': False, 'date': 'May 10, 2006'}</td>\n      <td>{'url': '', 'email': ''}</td>\n      <td>https://cdn.akamai.steamstatic.com/steam/apps/...</td>\n      <td>{'ids': [], 'notes': None}</td>\n      <td>USD</td>\n      <td>999</td>\n    </tr>\n    <tr>\n      <th>1</th>\n      <td>Heretic: Shadow of the Serpent Riders</td>\n      <td>2390</td>\n      <td>0</td>\n      <td>False</td>\n      <td>&lt;p&gt;In a twisted medieval dimension, undead cre...</td>\n      <td>&lt;p&gt;In a twisted medieval dimension, undead cre...</td>\n      <td>In a twisted medieval dimension, undead creatu...</td>\n      <td>English</td>\n      <td>https://cdn.akamai.steamstatic.com/steam/apps/...</td>\n      <td>NaN</td>\n      <td>{'minimum': '&lt;p&gt;&lt;strong&gt;Minimum: &lt;/strong&gt;A 10...</td>\n      <td>[]</td>\n      <td>[]</td>\n      <td>['Raven Software']</td>\n      <td>['id Software']</td>\n      <td>{'currency': 'USD', 'initial': 499, 'final': 4...</td>\n      <td>[435, 439]</td>\n      <td>[{'name': 'default', 'title': 'Buy Heretic: Sh...</td>\n      <td>windows</td>\n      <td>[{'id': 2, 'description': 'Single-player'}, {'...</td>\n      <td>[{'id': '1', 'description': 'Action'}]</td>\n      <td>[{'id': 0, 'path_thumbnail': 'https://cdn.akam...</td>\n      <td>NaN</td>\n      <td>{'total': 637}</td>\n      <td>NaN</td>\n      <td>{'coming_soon': False, 'date': 'Aug 3, 2007'}</td>\n      <td>{'url': '', 'email': ''}</td>\n      <td>https://cdn.akamai.steamstatic.com/steam/apps/...</td>\n      <td>{'ids': [], 'notes': None}</td>\n      <td>USD</td>\n      <td>499</td>\n    </tr>\n    <tr>\n      <th>2</th>\n      <td>Bloody Good Time</td>\n      <td>2450</td>\n      <td>0</td>\n      <td>False</td>\n      <td>&lt;p&gt;Congratulations, you’ve just been cast in y...</td>\n      <td>&lt;p&gt;Congratulations, you’ve just been cast in y...</td>\n      <td>Congratulations, you’ve just been cast in your...</td>\n      <td>English</td>\n      <td>https://cdn.akamai.steamstatic.com/steam/apps/...</td>\n      <td>NaN</td>\n      <td>{'minimum': '&lt;strong&gt;Minimum&lt;/strong&gt;\\n\\t\\t\\t\\...</td>\n      <td>[]</td>\n      <td>[]</td>\n      <td>['Outerlight Ltd.']</td>\n      <td>['Ubisoft']</td>\n      <td>{'currency': 'USD', 'initial': 499, 'final': 4...</td>\n      <td>[6530]</td>\n      <td>[{'name': 'default', 'title': 'Buy Bloody Good...</td>\n      <td>windows</td>\n      <td>[{'id': 2, 'description': 'Single-player'}, {'...</td>\n      <td>[{'id': '1', 'description': 'Action'}]</td>\n      <td>[{'id': 0, 'path_thumbnail': 'https://cdn.akam...</td>\n      <td>NaN</td>\n      <td>{'total': 790}</td>\n      <td>{'total': 12, 'highlighted': [{'name': 'First ...</td>\n      <td>{'coming_soon': False, 'date': 'Oct 29, 2010'}</td>\n      <td>{'url': '', 'email': ''}</td>\n      <td>https://cdn.akamai.steamstatic.com/steam/apps/...</td>\n      <td>{'ids': [], 'notes': None}</td>\n      <td>USD</td>\n      <td>499</td>\n    </tr>\n    <tr>\n      <th>3</th>\n      <td>RIP - Trilogy™</td>\n      <td>2540</td>\n      <td>0</td>\n      <td>False</td>\n      <td>With the completion of the third title in the ...</td>\n      <td>With the completion of the third title in the ...</td>\n      <td>With the completion of the third title in the ...</td>\n      <td>English</td>\n      <td>https://cdn.akamai.steamstatic.com/steam/apps/...</td>\n      <td>NaN</td>\n      <td>{'minimum': '&lt;strong&gt;Minimum: &lt;/strong&gt;Windows...</td>\n      <td>[]</td>\n      <td>[]</td>\n      <td>['Elephant Games']</td>\n      <td>['']</td>\n      <td>{'currency': 'USD', 'initial': 499, 'final': 4...</td>\n      <td>[346]</td>\n      <td>[{'name': 'default', 'title': 'Buy RIP - Trilo...</td>\n      <td>windows</td>\n      <td>[{'id': 2, 'description': 'Single-player'}, {'...</td>\n      <td>[{'id': '4', 'description': 'Casual'}, {'id': ...</td>\n      <td>[{'id': 0, 'path_thumbnail': 'https://cdn.akam...</td>\n      <td>NaN</td>\n      <td>{'total': 234}</td>\n      <td>NaN</td>\n      <td>{'coming_soon': False, 'date': 'Jun 1, 2007'}</td>\n      <td>{'url': '', 'email': ''}</td>\n      <td>https://cdn.akamai.steamstatic.com/steam/apps/...</td>\n      <td>{'ids': [], 'notes': None}</td>\n      <td>USD</td>\n      <td>499</td>\n    </tr>\n    <tr>\n      <th>4</th>\n      <td>GUN™</td>\n      <td>2610</td>\n      <td>17</td>\n      <td>False</td>\n      <td>When life robs Colton White of all that matter...</td>\n      <td>When life robs Colton White of all that matter...</td>\n      <td>When life robs Colton White of all that matter...</td>\n      <td>English</td>\n      <td>https://cdn.akamai.steamstatic.com/steam/apps/...</td>\n      <td>NaN</td>\n      <td>{'minimum': '&lt;strong&gt;Minimum&lt;/strong&gt; 3D hardw...</td>\n      <td>[]</td>\n      <td>[]</td>\n      <td>['Neversoft']</td>\n      <td>['Activision']</td>\n      <td>{'currency': 'USD', 'initial': 1999, 'final': ...</td>\n      <td>[174]</td>\n      <td>[{'name': 'default', 'title': 'Buy GUN™', 'des...</td>\n      <td>windows</td>\n      <td>[{'id': 2, 'description': 'Single-player'}]</td>\n      <td>[{'id': '1', 'description': 'Action'}]</td>\n      <td>[{'id': 0, 'path_thumbnail': 'https://cdn.akam...</td>\n      <td>NaN</td>\n      <td>{'total': 1059}</td>\n      <td>NaN</td>\n      <td>{'coming_soon': False, 'date': 'Oct 13, 2006'}</td>\n      <td>{'url': '', 'email': ''}</td>\n      <td>https://cdn.akamai.steamstatic.com/steam/apps/...</td>\n      <td>{'ids': [], 'notes': None}</td>\n      <td>USD</td>\n      <td>1999</td>\n    </tr>\n  </tbody>\n</table>\n</div>"
     },
     "metadata": {},
     "execution_count": 26
    }
   ],
   "source": [
    "\n",
    "def process_price(df):\n",
    "    df = df.copy()\n",
    "        \n",
    "    def parse_price(x):\n",
    "        if x is not np.nan:\n",
    "            return literal_eval(x)\n",
    "        else:\n",
    "            return {'currency': 'USD', 'initial': -1}\n",
    "    \n",
    "    # evaluate as dictionary and set to -1 if missing\n",
    "    df['price_overview'] = df['price_overview'].apply(parse_price)\n",
    "    \n",
    "    # Create columns from currency and initial values\n",
    "    df['currency'] = df['price_overview'].apply(lambda x: x['currency'])\n",
    "    df['price'] = df['price_overview'].apply(lambda x: x['initial'])\n",
    "\n",
    "\n",
    "    # Set price of free games to 0\n",
    "    df.loc[df['is_free'], 'price'] = 0\n",
    "\n",
    "      \n",
    "    # remove rows where price is -1\n",
    "    df = df[df['price'] != -1]\n",
    "\n",
    "    #cannot be translated in CSV file\n",
    "    df = df.drop(index = 999)\n",
    "\n",
    "    \n",
    " \n",
    "\n",
    "    return df\n",
    "\n",
    "price_data = process_price(platforms_df)\n",
    "price_data.head()"
   ]
  },
  {
   "cell_type": "code",
   "execution_count": 27,
   "metadata": {},
   "outputs": [
    {
     "output_type": "execute_result",
     "data": {
      "text/plain": [
       "                   name  steam_appid required_age  is_free  \\\n",
       "152  Secrets of Rætikon       246680            0    False   \n",
       "343        Urban Empire       352550            0    False   \n",
       "\n",
       "                                  detailed_description  \\\n",
       "152  <h1>Features of Secrets of Rætikon</h1><p><ul ...   \n",
       "343  In <strong>Urban Empire</strong> regieren Sie ...   \n",
       "\n",
       "                                        about_the_game  \\\n",
       "152  Ruthless bird versus bird action. Wild animals...   \n",
       "343  In <strong>Urban Empire</strong> regieren Sie ...   \n",
       "\n",
       "                                     short_description  \\\n",
       "152  Ruthless bird versus bird action. Wild animals...   \n",
       "343  Urban Empire ist als City Ruler der Vorreiter ...   \n",
       "\n",
       "                                   supported_languages  \\\n",
       "152                                            Anglais   \n",
       "343  Englisch<strong>*</strong>, Französisch<strong...   \n",
       "\n",
       "                                          header_image  \\\n",
       "152  https://cdn.akamai.steamstatic.com/steam/apps/...   \n",
       "343  https://cdn.akamai.steamstatic.com/steam/apps/...   \n",
       "\n",
       "                            website  \\\n",
       "152  http://secrets-of-raetikon.com   \n",
       "343                             NaN   \n",
       "\n",
       "                                       pc_requirements  \\\n",
       "152  {'minimum': '<strong>Minimale\\xa0:</strong><br...   \n",
       "343  {'minimum': '<strong>Mindestanforderungen:</st...   \n",
       "\n",
       "                                      mac_requirements  \\\n",
       "152  {'minimum': '<strong>Minimale\\xa0:</strong><br...   \n",
       "343                                                 []   \n",
       "\n",
       "                                    linux_requirements        developers  \\\n",
       "152  {'minimum': '<strong>Minimale\\xa0:</strong><br...  ['Broken Rules']   \n",
       "343                                                 []  ['Reborn Games']   \n",
       "\n",
       "                    publishers  \\\n",
       "152           ['Broken Rules']   \n",
       "343  ['Kalypso Media Digital']   \n",
       "\n",
       "                                        price_overview        packages  \\\n",
       "152  {'currency': 'EUR', 'initial': 999, 'final': 9...  [29476, 40509]   \n",
       "343  {'currency': 'EUR', 'initial': 2999, 'final': ...         [61584]   \n",
       "\n",
       "                                        package_groups          platforms  \\\n",
       "152  [{'name': 'default', 'title': 'Acheter Secrets...  windows;mac;linux   \n",
       "343  [{'name': 'default', 'title': 'Urban Empire ka...            windows   \n",
       "\n",
       "                                            categories  \\\n",
       "152  [{'id': 2, 'description': 'Solo'}, {'id': 22, ...   \n",
       "343  [{'id': 2, 'description': 'Einzelspieler'}, {'...   \n",
       "\n",
       "                                                genres  \\\n",
       "152  [{'id': '1', 'description': 'Action'}, {'id': ...   \n",
       "343  [{'id': '28', 'description': 'Simulation'}, {'...   \n",
       "\n",
       "                                           screenshots  \\\n",
       "152  [{'id': 0, 'path_thumbnail': 'https://cdn.akam...   \n",
       "343  [{'id': 0, 'path_thumbnail': 'https://cdn.akam...   \n",
       "\n",
       "                                                movies  recommendations  \\\n",
       "152  [{'id': 2031941, 'name': 'Release Trailer', 't...   {'total': 156}   \n",
       "343  [{'id': 256667253, 'name': 'Dev Diary #1 DE', ...  {'total': 1853}   \n",
       "\n",
       "                                          achievements  \\\n",
       "152  {'total': 19, 'highlighted': [{'name': 'Lynx T...   \n",
       "343  {'total': 74, 'highlighted': [{'name': 'Indust...   \n",
       "\n",
       "                                        release_date  \\\n",
       "152   {'coming_soon': False, 'date': '17 avr. 2014'}   \n",
       "343  {'coming_soon': False, 'date': '20. Jan. 2017'}   \n",
       "\n",
       "                                          support_info  \\\n",
       "152  {'url': 'http://brokenrul.es/vanilla/categorie...   \n",
       "343  {'url': 'http://forum.kalypsomedia.com/', 'ema...   \n",
       "\n",
       "                                            background  \\\n",
       "152  https://cdn.akamai.steamstatic.com/steam/apps/...   \n",
       "343  https://cdn.akamai.steamstatic.com/steam/apps/...   \n",
       "\n",
       "            content_descriptors currency  price  \n",
       "152  {'ids': [], 'notes': None}      EUR    999  \n",
       "343  {'ids': [], 'notes': None}      EUR   2999  "
      ],
      "text/html": "<div>\n<style scoped>\n    .dataframe tbody tr th:only-of-type {\n        vertical-align: middle;\n    }\n\n    .dataframe tbody tr th {\n        vertical-align: top;\n    }\n\n    .dataframe thead th {\n        text-align: right;\n    }\n</style>\n<table border=\"1\" class=\"dataframe\">\n  <thead>\n    <tr style=\"text-align: right;\">\n      <th></th>\n      <th>name</th>\n      <th>steam_appid</th>\n      <th>required_age</th>\n      <th>is_free</th>\n      <th>detailed_description</th>\n      <th>about_the_game</th>\n      <th>short_description</th>\n      <th>supported_languages</th>\n      <th>header_image</th>\n      <th>website</th>\n      <th>pc_requirements</th>\n      <th>mac_requirements</th>\n      <th>linux_requirements</th>\n      <th>developers</th>\n      <th>publishers</th>\n      <th>price_overview</th>\n      <th>packages</th>\n      <th>package_groups</th>\n      <th>platforms</th>\n      <th>categories</th>\n      <th>genres</th>\n      <th>screenshots</th>\n      <th>movies</th>\n      <th>recommendations</th>\n      <th>achievements</th>\n      <th>release_date</th>\n      <th>support_info</th>\n      <th>background</th>\n      <th>content_descriptors</th>\n      <th>currency</th>\n      <th>price</th>\n    </tr>\n  </thead>\n  <tbody>\n    <tr>\n      <th>152</th>\n      <td>Secrets of Rætikon</td>\n      <td>246680</td>\n      <td>0</td>\n      <td>False</td>\n      <td>&lt;h1&gt;Features of Secrets of Rætikon&lt;/h1&gt;&lt;p&gt;&lt;ul ...</td>\n      <td>Ruthless bird versus bird action. Wild animals...</td>\n      <td>Ruthless bird versus bird action. Wild animals...</td>\n      <td>Anglais</td>\n      <td>https://cdn.akamai.steamstatic.com/steam/apps/...</td>\n      <td>http://secrets-of-raetikon.com</td>\n      <td>{'minimum': '&lt;strong&gt;Minimale\\xa0:&lt;/strong&gt;&lt;br...</td>\n      <td>{'minimum': '&lt;strong&gt;Minimale\\xa0:&lt;/strong&gt;&lt;br...</td>\n      <td>{'minimum': '&lt;strong&gt;Minimale\\xa0:&lt;/strong&gt;&lt;br...</td>\n      <td>['Broken Rules']</td>\n      <td>['Broken Rules']</td>\n      <td>{'currency': 'EUR', 'initial': 999, 'final': 9...</td>\n      <td>[29476, 40509]</td>\n      <td>[{'name': 'default', 'title': 'Acheter Secrets...</td>\n      <td>windows;mac;linux</td>\n      <td>[{'id': 2, 'description': 'Solo'}, {'id': 22, ...</td>\n      <td>[{'id': '1', 'description': 'Action'}, {'id': ...</td>\n      <td>[{'id': 0, 'path_thumbnail': 'https://cdn.akam...</td>\n      <td>[{'id': 2031941, 'name': 'Release Trailer', 't...</td>\n      <td>{'total': 156}</td>\n      <td>{'total': 19, 'highlighted': [{'name': 'Lynx T...</td>\n      <td>{'coming_soon': False, 'date': '17 avr. 2014'}</td>\n      <td>{'url': 'http://brokenrul.es/vanilla/categorie...</td>\n      <td>https://cdn.akamai.steamstatic.com/steam/apps/...</td>\n      <td>{'ids': [], 'notes': None}</td>\n      <td>EUR</td>\n      <td>999</td>\n    </tr>\n    <tr>\n      <th>343</th>\n      <td>Urban Empire</td>\n      <td>352550</td>\n      <td>0</td>\n      <td>False</td>\n      <td>In &lt;strong&gt;Urban Empire&lt;/strong&gt; regieren Sie ...</td>\n      <td>In &lt;strong&gt;Urban Empire&lt;/strong&gt; regieren Sie ...</td>\n      <td>Urban Empire ist als City Ruler der Vorreiter ...</td>\n      <td>Englisch&lt;strong&gt;*&lt;/strong&gt;, Französisch&lt;strong...</td>\n      <td>https://cdn.akamai.steamstatic.com/steam/apps/...</td>\n      <td>NaN</td>\n      <td>{'minimum': '&lt;strong&gt;Mindestanforderungen:&lt;/st...</td>\n      <td>[]</td>\n      <td>[]</td>\n      <td>['Reborn Games']</td>\n      <td>['Kalypso Media Digital']</td>\n      <td>{'currency': 'EUR', 'initial': 2999, 'final': ...</td>\n      <td>[61584]</td>\n      <td>[{'name': 'default', 'title': 'Urban Empire ka...</td>\n      <td>windows</td>\n      <td>[{'id': 2, 'description': 'Einzelspieler'}, {'...</td>\n      <td>[{'id': '28', 'description': 'Simulation'}, {'...</td>\n      <td>[{'id': 0, 'path_thumbnail': 'https://cdn.akam...</td>\n      <td>[{'id': 256667253, 'name': 'Dev Diary #1 DE', ...</td>\n      <td>{'total': 1853}</td>\n      <td>{'total': 74, 'highlighted': [{'name': 'Indust...</td>\n      <td>{'coming_soon': False, 'date': '20. Jan. 2017'}</td>\n      <td>{'url': 'http://forum.kalypsomedia.com/', 'ema...</td>\n      <td>https://cdn.akamai.steamstatic.com/steam/apps/...</td>\n      <td>{'ids': [], 'notes': None}</td>\n      <td>EUR</td>\n      <td>2999</td>\n    </tr>\n  </tbody>\n</table>\n</div>"
     },
     "metadata": {},
     "execution_count": 27
    }
   ],
   "source": [
    "price_data[price_data['currency'] != 'USD']"
   ]
  },
  {
   "cell_type": "code",
   "execution_count": 28,
   "metadata": {},
   "outputs": [
    {
     "output_type": "execute_result",
     "data": {
      "text/plain": [
       "                                    name  english\n",
       "0                SiN Episodes: Emergence        1\n",
       "1  Heretic: Shadow of the Serpent Riders        1\n",
       "2                       Bloody Good Time        1\n",
       "3                         RIP - Trilogy™        1\n",
       "4                                   GUN™        1"
      ],
      "text/html": "<div>\n<style scoped>\n    .dataframe tbody tr th:only-of-type {\n        vertical-align: middle;\n    }\n\n    .dataframe tbody tr th {\n        vertical-align: top;\n    }\n\n    .dataframe thead th {\n        text-align: right;\n    }\n</style>\n<table border=\"1\" class=\"dataframe\">\n  <thead>\n    <tr style=\"text-align: right;\">\n      <th></th>\n      <th>name</th>\n      <th>english</th>\n    </tr>\n  </thead>\n  <tbody>\n    <tr>\n      <th>0</th>\n      <td>SiN Episodes: Emergence</td>\n      <td>1</td>\n    </tr>\n    <tr>\n      <th>1</th>\n      <td>Heretic: Shadow of the Serpent Riders</td>\n      <td>1</td>\n    </tr>\n    <tr>\n      <th>2</th>\n      <td>Bloody Good Time</td>\n      <td>1</td>\n    </tr>\n    <tr>\n      <th>3</th>\n      <td>RIP - Trilogy™</td>\n      <td>1</td>\n    </tr>\n    <tr>\n      <th>4</th>\n      <td>GUN™</td>\n      <td>1</td>\n    </tr>\n  </tbody>\n</table>\n</div>"
     },
     "metadata": {},
     "execution_count": 28
    }
   ],
   "source": [
    " def process_language(df):\n",
    "\n",
    "    \"\"\"Process supported_languages column into a boolean 'is english' column.\"\"\"\n",
    "    df = df.copy()\n",
    "    \n",
    "    # drop rows with missing language data\n",
    "    df = df.dropna(subset=['supported_languages'])\n",
    "    \n",
    "    df['english'] = df['supported_languages'].apply(lambda x: 1 if 'english' in x.lower() else 0)\n",
    "    df = df.drop('supported_languages', axis=1)\n",
    "    \n",
    "    return df\n",
    "\n",
    "\n",
    "language_df = process_language(price_data)\n",
    "language_df[['name', 'english']].head()"
   ]
  },
  {
   "cell_type": "code",
   "execution_count": 29,
   "metadata": {},
   "outputs": [
    {
     "output_type": "stream",
     "name": "stdout",
     "text": [
      "Rows in developers column with multiple values: 70\nRows in publishers column with multiple values: 50\n"
     ]
    }
   ],
   "source": [
    "def process_developers_and_publishers(df):\n",
    "    # remove rows with missing data\n",
    "    df = df[(df['developers'].notnull()) & (df['publishers'] != \"['']\")].copy()\n",
    "    \n",
    "    for col in ['developers', 'publishers']:\n",
    "        df[col] = df[col].apply(lambda x: literal_eval(x))\n",
    "        \n",
    "        # filter dataframe to rows with lists longer than 1, and store the number of rows\n",
    "        num_rows = df[df[col].str.len() > 1].shape[0]\n",
    "        \n",
    "        print('Rows in {} column with multiple values:'.format(col), num_rows)\n",
    "\n",
    "process_developers_and_publishers(language_df)"
   ]
  },
  {
   "cell_type": "code",
   "execution_count": 30,
   "metadata": {},
   "outputs": [
    {
     "output_type": "execute_result",
     "data": {
      "text/plain": [
       "                                    name  steam_appid             developer  \\\n",
       "0                SiN Episodes: Emergence         1300  Ritual Entertainment   \n",
       "1  Heretic: Shadow of the Serpent Riders         2390        Raven Software   \n",
       "2                       Bloody Good Time         2450       Outerlight Ltd.   \n",
       "4                                   GUN™         2610             Neversoft   \n",
       "5                            Sub Command         2920             Sonalysts   \n",
       "\n",
       "              publisher  \n",
       "0  Ritual Entertainment  \n",
       "1           id Software  \n",
       "2               Ubisoft  \n",
       "4            Activision  \n",
       "5        Strategy First  "
      ],
      "text/html": "<div>\n<style scoped>\n    .dataframe tbody tr th:only-of-type {\n        vertical-align: middle;\n    }\n\n    .dataframe tbody tr th {\n        vertical-align: top;\n    }\n\n    .dataframe thead th {\n        text-align: right;\n    }\n</style>\n<table border=\"1\" class=\"dataframe\">\n  <thead>\n    <tr style=\"text-align: right;\">\n      <th></th>\n      <th>name</th>\n      <th>steam_appid</th>\n      <th>developer</th>\n      <th>publisher</th>\n    </tr>\n  </thead>\n  <tbody>\n    <tr>\n      <th>0</th>\n      <td>SiN Episodes: Emergence</td>\n      <td>1300</td>\n      <td>Ritual Entertainment</td>\n      <td>Ritual Entertainment</td>\n    </tr>\n    <tr>\n      <th>1</th>\n      <td>Heretic: Shadow of the Serpent Riders</td>\n      <td>2390</td>\n      <td>Raven Software</td>\n      <td>id Software</td>\n    </tr>\n    <tr>\n      <th>2</th>\n      <td>Bloody Good Time</td>\n      <td>2450</td>\n      <td>Outerlight Ltd.</td>\n      <td>Ubisoft</td>\n    </tr>\n    <tr>\n      <th>4</th>\n      <td>GUN™</td>\n      <td>2610</td>\n      <td>Neversoft</td>\n      <td>Activision</td>\n    </tr>\n    <tr>\n      <th>5</th>\n      <td>Sub Command</td>\n      <td>2920</td>\n      <td>Sonalysts</td>\n      <td>Strategy First</td>\n    </tr>\n  </tbody>\n</table>\n</div>"
     },
     "metadata": {},
     "execution_count": 30
    }
   ],
   "source": [
    " def process_developers_and_publishers(df):\n",
    "    \"\"\"Parse columns as semicolon-separated string.\"\"\"\n",
    "    # remove rows with missing data (~ means not)\n",
    "    df = df[(df['developers'].notnull()) & (df['publishers'] != \"['']\")].copy()\n",
    "    df = df[~(df['developers'].str.contains(';')) & ~(df['publishers'].str.contains(';'))]\n",
    "    df = df[(df['publishers'] != \"['NA']\") & (df['publishers'] != \"['N/A']\")]\n",
    "    \n",
    "    # create list for each\n",
    "    df['developer'] = df['developers'].apply(lambda x: ';'.join(literal_eval(x)))\n",
    "    df['publisher'] = df['publishers'].apply(lambda x: ';'.join(literal_eval(x)))\n",
    "\n",
    "    df = df.drop(['developers', 'publishers'], axis=1)\n",
    "    \n",
    "    return df\n",
    "\n",
    "dev_pub_df = process_developers_and_publishers(language_df)\n",
    "dev_pub_df[['name', 'steam_appid', 'developer', 'publisher']].head()"
   ]
  },
  {
   "cell_type": "code",
   "execution_count": 31,
   "metadata": {},
   "outputs": [
    {
     "output_type": "stream",
     "name": "stdout",
     "text": [
      "Categories:\n\nNull values: 13\n\n[{'id': 2, 'description': 'Single-player'}, {'id': 15, 'description': 'Stats'}]\n\nGenres:\n\nNull values: 0\n\n[{'id': '1', 'description': 'Action'}]\n[{'id': '1', 'description': 'Action'}, {'id': '3', 'description': 'RPG'}, {'id': '28', 'description': 'Simulation'}, {'id': '2', 'description': 'Strategy'}]\n"
     ]
    }
   ],
   "source": [
    "print('Categories:\\n')\n",
    "print('Null values:', dev_pub_df['categories'].isnull().sum())\n",
    "print()\n",
    "print(dev_pub_df['categories'][0])\n",
    "\n",
    "print('\\nGenres:\\n')\n",
    "print('Null values:', dev_pub_df['genres'].isnull().sum())\n",
    "print()\n",
    "print(dev_pub_df['genres'].iloc[0])\n",
    "print(dev_pub_df['genres'].iloc[930])"
   ]
  },
  {
   "cell_type": "code",
   "execution_count": 32,
   "metadata": {},
   "outputs": [
    {
     "output_type": "execute_result",
     "data": {
      "text/plain": [
       "   steam_appid                                         categories    genres\n",
       "0         1300                                Single-player;Stats    Action\n",
       "1         2390             Single-player;Multi-player;Steam Cloud    Action\n",
       "2         2450      Single-player;Multi-player;Steam Achievements    Action\n",
       "4         2610                                      Single-player    Action\n",
       "5         2920  Single-player;Multi-player;Co-op;Includes leve...  Strategy"
      ],
      "text/html": "<div>\n<style scoped>\n    .dataframe tbody tr th:only-of-type {\n        vertical-align: middle;\n    }\n\n    .dataframe tbody tr th {\n        vertical-align: top;\n    }\n\n    .dataframe thead th {\n        text-align: right;\n    }\n</style>\n<table border=\"1\" class=\"dataframe\">\n  <thead>\n    <tr style=\"text-align: right;\">\n      <th></th>\n      <th>steam_appid</th>\n      <th>categories</th>\n      <th>genres</th>\n    </tr>\n  </thead>\n  <tbody>\n    <tr>\n      <th>0</th>\n      <td>1300</td>\n      <td>Single-player;Stats</td>\n      <td>Action</td>\n    </tr>\n    <tr>\n      <th>1</th>\n      <td>2390</td>\n      <td>Single-player;Multi-player;Steam Cloud</td>\n      <td>Action</td>\n    </tr>\n    <tr>\n      <th>2</th>\n      <td>2450</td>\n      <td>Single-player;Multi-player;Steam Achievements</td>\n      <td>Action</td>\n    </tr>\n    <tr>\n      <th>4</th>\n      <td>2610</td>\n      <td>Single-player</td>\n      <td>Action</td>\n    </tr>\n    <tr>\n      <th>5</th>\n      <td>2920</td>\n      <td>Single-player;Multi-player;Co-op;Includes leve...</td>\n      <td>Strategy</td>\n    </tr>\n  </tbody>\n</table>\n</div>"
     },
     "metadata": {},
     "execution_count": 32
    }
   ],
   "source": [
    "def process_categories_and_genres(df):\n",
    "    df = df.copy()\n",
    "    df = df[(df['categories'].notnull()) & (df['genres'].notnull())]\n",
    "    \n",
    "    for col in ['categories', 'genres']:\n",
    "        df[col] = df[col].apply(lambda x: ';'.join(item['description'] for item in literal_eval(x)))\n",
    "    \n",
    "    return df\n",
    "\n",
    "cat_gen_df = process_categories_and_genres(dev_pub_df)\n",
    "cat_gen_df[['steam_appid', 'categories', 'genres']].head()"
   ]
  },
  {
   "cell_type": "code",
   "execution_count": 33,
   "metadata": {},
   "outputs": [],
   "source": [
    "def process_achievements_and_descriptors(df):\n",
    "\n",
    "    df = df.drop(['achievements'], axis=1)\n",
    "    \n",
    "    return df"
   ]
  },
  {
   "cell_type": "code",
   "execution_count": 34,
   "metadata": {},
   "outputs": [],
   "source": [
    "def process_descriptions(df):\n",
    "\n",
    "\n",
    "    df = df.drop(['detailed_description', 'about_the_game', 'short_description'], axis=1)\n",
    "    \n",
    "    return df"
   ]
  },
  {
   "cell_type": "code",
   "execution_count": 35,
   "metadata": {},
   "outputs": [],
   "source": [
    "def process_media(df):\n",
    "        \n",
    "    df = df.drop(['header_image', 'screenshots', 'background', 'movies'], axis=1)\n",
    "    \n",
    "    return df\n",
    "\n"
   ]
  },
  {
   "cell_type": "code",
   "execution_count": 36,
   "metadata": {},
   "outputs": [],
   "source": [
    "def process_website_and_support(df):\n",
    "\n",
    "    df = df.drop(['website', 'support_info'], axis=1)\n",
    "\n",
    "    return df"
   ]
  },
  {
   "cell_type": "code",
   "execution_count": 37,
   "metadata": {},
   "outputs": [],
   "source": [
    "def process_sys_requirements(df):\n",
    "\n",
    "    df = df.drop(['pc_requirements', 'mac_requirements', 'linux_requirements'], axis=1)\n",
    "\n",
    "    return df"
   ]
  },
  {
   "cell_type": "code",
   "execution_count": 38,
   "metadata": {},
   "outputs": [],
   "source": [
    "def process_dlc(df):\n",
    "\n",
    "    df = df.drop(['dlc'], axis=1)\n",
    "\n",
    "    return df"
   ]
  },
  {
   "cell_type": "code",
   "execution_count": 39,
   "metadata": {},
   "outputs": [],
   "source": [
    "def process_legal_notice(df):\n",
    "\n",
    "    df = df.drop(['legal_notice'], axis=1)\n",
    "\n",
    "    return df"
   ]
  },
  {
   "cell_type": "code",
   "execution_count": 40,
   "metadata": {},
   "outputs": [],
   "source": [
    "def process_metacritic_and_recommendations(df):\n",
    "\n",
    "    df = df.drop(['metacritic', 'recommendations'], axis=1)\n",
    "\n",
    "    return df"
   ]
  },
  {
   "cell_type": "code",
   "execution_count": 41,
   "metadata": {},
   "outputs": [],
   "source": [
    "  def process_packages(df):\r\n",
    "\r\n",
    "    df = df.drop(['packages'], axis=1)\r\n",
    "\r\n",
    "    return df"
   ]
  },
  {
   "source": [
    "def process(df):\n",
    "    \"\"\"Process data set. Will eventually contain calls to all functions we write.\"\"\"\n",
    "    \n",
    "    # Copy the input dataframe to avoid accidentally modifying original data\n",
    "    df = df.copy()\n",
    "    \n",
    "    # Remove duplicate rows - all appids should be unique\n",
    "    df = df.drop_duplicates()\n",
    "    \n",
    "    # Remove collumns with more than 50% null values\n",
    "    df = drop_null_cols(df)\n",
    "    \n",
    "    # Process columns\n",
    "    df = process_name_type(df)\n",
    "    df = process_age(df)\n",
    "    df = process_platforms(df)\n",
    "    df = process_price(df)\n",
    "    df = process_language(df)\n",
    "    df = process_developers_and_publishers(df)\n",
    "    df = process_categories_and_genres(df)\n",
    "    df = process_achievements_and_descriptors(df)\n",
    "    df = process_descriptions(df)\n",
    "    df = process_media(df)\n",
    "    df = process_website_and_support(df)\n",
    "    df = process_sys_requirements(df)\n",
    "    df = process_dlc(df)\n",
    "    df = process_legal_notice(df)\n",
    "    df = process_metacritic_and_recommendations(df)\n",
    "    df = process_packages(df)\n",
    "\n",
    "    return df\n",
    "\n",
    "steam_data = process(raw_steam_data)\n",
    "steam_data.head()\n"
   ],
   "cell_type": "code",
   "metadata": {},
   "execution_count": 42,
   "outputs": [
    {
     "output_type": "execute_result",
     "data": {
      "text/plain": [
       "                                    name  steam_appid required_age  is_free  \\\n",
       "0                SiN Episodes: Emergence         1300            0    False   \n",
       "1  Heretic: Shadow of the Serpent Riders         2390            0    False   \n",
       "2                       Bloody Good Time         2450            0    False   \n",
       "4                                   GUN™         2610           17    False   \n",
       "5                            Sub Command         2920            0    False   \n",
       "\n",
       "                                      price_overview  \\\n",
       "0  {'currency': 'USD', 'initial': 999, 'final': 9...   \n",
       "1  {'currency': 'USD', 'initial': 499, 'final': 4...   \n",
       "2  {'currency': 'USD', 'initial': 499, 'final': 4...   \n",
       "4  {'currency': 'USD', 'initial': 1999, 'final': ...   \n",
       "5  {'currency': 'USD', 'initial': 999, 'final': 9...   \n",
       "\n",
       "                                      package_groups platforms  \\\n",
       "0  [{'name': 'default', 'title': 'Buy SiN Episode...   windows   \n",
       "1  [{'name': 'default', 'title': 'Buy Heretic: Sh...   windows   \n",
       "2  [{'name': 'default', 'title': 'Buy Bloody Good...   windows   \n",
       "4  [{'name': 'default', 'title': 'Buy GUN™', 'des...   windows   \n",
       "5  [{'name': 'default', 'title': 'Buy Sub Command...   windows   \n",
       "\n",
       "                                          categories    genres  \\\n",
       "0                                Single-player;Stats    Action   \n",
       "1             Single-player;Multi-player;Steam Cloud    Action   \n",
       "2      Single-player;Multi-player;Steam Achievements    Action   \n",
       "4                                      Single-player    Action   \n",
       "5  Single-player;Multi-player;Co-op;Includes leve...  Strategy   \n",
       "\n",
       "   recommendations                                    release_date  \\\n",
       "0   {'total': 445}  {'coming_soon': False, 'date': 'May 10, 2006'}   \n",
       "1   {'total': 637}   {'coming_soon': False, 'date': 'Aug 3, 2007'}   \n",
       "2   {'total': 790}  {'coming_soon': False, 'date': 'Oct 29, 2010'}   \n",
       "4  {'total': 1059}  {'coming_soon': False, 'date': 'Oct 13, 2006'}   \n",
       "5              NaN  {'coming_soon': False, 'date': 'Oct 26, 2006'}   \n",
       "\n",
       "          content_descriptors currency  price  english             developer  \\\n",
       "0  {'ids': [], 'notes': None}      USD    999        1  Ritual Entertainment   \n",
       "1  {'ids': [], 'notes': None}      USD    499        1        Raven Software   \n",
       "2  {'ids': [], 'notes': None}      USD    499        1       Outerlight Ltd.   \n",
       "4  {'ids': [], 'notes': None}      USD   1999        1             Neversoft   \n",
       "5  {'ids': [], 'notes': None}      USD    999        1             Sonalysts   \n",
       "\n",
       "              publisher  \n",
       "0  Ritual Entertainment  \n",
       "1           id Software  \n",
       "2               Ubisoft  \n",
       "4            Activision  \n",
       "5        Strategy First  "
      ],
      "text/html": "<div>\n<style scoped>\n    .dataframe tbody tr th:only-of-type {\n        vertical-align: middle;\n    }\n\n    .dataframe tbody tr th {\n        vertical-align: top;\n    }\n\n    .dataframe thead th {\n        text-align: right;\n    }\n</style>\n<table border=\"1\" class=\"dataframe\">\n  <thead>\n    <tr style=\"text-align: right;\">\n      <th></th>\n      <th>name</th>\n      <th>steam_appid</th>\n      <th>required_age</th>\n      <th>is_free</th>\n      <th>price_overview</th>\n      <th>package_groups</th>\n      <th>platforms</th>\n      <th>categories</th>\n      <th>genres</th>\n      <th>recommendations</th>\n      <th>release_date</th>\n      <th>content_descriptors</th>\n      <th>currency</th>\n      <th>price</th>\n      <th>english</th>\n      <th>developer</th>\n      <th>publisher</th>\n    </tr>\n  </thead>\n  <tbody>\n    <tr>\n      <th>0</th>\n      <td>SiN Episodes: Emergence</td>\n      <td>1300</td>\n      <td>0</td>\n      <td>False</td>\n      <td>{'currency': 'USD', 'initial': 999, 'final': 9...</td>\n      <td>[{'name': 'default', 'title': 'Buy SiN Episode...</td>\n      <td>windows</td>\n      <td>Single-player;Stats</td>\n      <td>Action</td>\n      <td>{'total': 445}</td>\n      <td>{'coming_soon': False, 'date': 'May 10, 2006'}</td>\n      <td>{'ids': [], 'notes': None}</td>\n      <td>USD</td>\n      <td>999</td>\n      <td>1</td>\n      <td>Ritual Entertainment</td>\n      <td>Ritual Entertainment</td>\n    </tr>\n    <tr>\n      <th>1</th>\n      <td>Heretic: Shadow of the Serpent Riders</td>\n      <td>2390</td>\n      <td>0</td>\n      <td>False</td>\n      <td>{'currency': 'USD', 'initial': 499, 'final': 4...</td>\n      <td>[{'name': 'default', 'title': 'Buy Heretic: Sh...</td>\n      <td>windows</td>\n      <td>Single-player;Multi-player;Steam Cloud</td>\n      <td>Action</td>\n      <td>{'total': 637}</td>\n      <td>{'coming_soon': False, 'date': 'Aug 3, 2007'}</td>\n      <td>{'ids': [], 'notes': None}</td>\n      <td>USD</td>\n      <td>499</td>\n      <td>1</td>\n      <td>Raven Software</td>\n      <td>id Software</td>\n    </tr>\n    <tr>\n      <th>2</th>\n      <td>Bloody Good Time</td>\n      <td>2450</td>\n      <td>0</td>\n      <td>False</td>\n      <td>{'currency': 'USD', 'initial': 499, 'final': 4...</td>\n      <td>[{'name': 'default', 'title': 'Buy Bloody Good...</td>\n      <td>windows</td>\n      <td>Single-player;Multi-player;Steam Achievements</td>\n      <td>Action</td>\n      <td>{'total': 790}</td>\n      <td>{'coming_soon': False, 'date': 'Oct 29, 2010'}</td>\n      <td>{'ids': [], 'notes': None}</td>\n      <td>USD</td>\n      <td>499</td>\n      <td>1</td>\n      <td>Outerlight Ltd.</td>\n      <td>Ubisoft</td>\n    </tr>\n    <tr>\n      <th>4</th>\n      <td>GUN™</td>\n      <td>2610</td>\n      <td>17</td>\n      <td>False</td>\n      <td>{'currency': 'USD', 'initial': 1999, 'final': ...</td>\n      <td>[{'name': 'default', 'title': 'Buy GUN™', 'des...</td>\n      <td>windows</td>\n      <td>Single-player</td>\n      <td>Action</td>\n      <td>{'total': 1059}</td>\n      <td>{'coming_soon': False, 'date': 'Oct 13, 2006'}</td>\n      <td>{'ids': [], 'notes': None}</td>\n      <td>USD</td>\n      <td>1999</td>\n      <td>1</td>\n      <td>Neversoft</td>\n      <td>Activision</td>\n    </tr>\n    <tr>\n      <th>5</th>\n      <td>Sub Command</td>\n      <td>2920</td>\n      <td>0</td>\n      <td>False</td>\n      <td>{'currency': 'USD', 'initial': 999, 'final': 9...</td>\n      <td>[{'name': 'default', 'title': 'Buy Sub Command...</td>\n      <td>windows</td>\n      <td>Single-player;Multi-player;Co-op;Includes leve...</td>\n      <td>Strategy</td>\n      <td>NaN</td>\n      <td>{'coming_soon': False, 'date': 'Oct 26, 2006'}</td>\n      <td>{'ids': [], 'notes': None}</td>\n      <td>USD</td>\n      <td>999</td>\n      <td>1</td>\n      <td>Sonalysts</td>\n      <td>Strategy First</td>\n    </tr>\n  </tbody>\n</table>\n</div>"
     },
     "metadata": {},
     "execution_count": 42
    }
   ]
  },
  {
   "cell_type": "code",
   "execution_count": 43,
   "metadata": {},
   "outputs": [
    {
     "output_type": "execute_result",
     "data": {
      "text/plain": [
       "name                     0\n",
       "steam_appid              0\n",
       "required_age             0\n",
       "is_free                  0\n",
       "price_overview           0\n",
       "package_groups           0\n",
       "platforms                0\n",
       "categories               0\n",
       "genres                   0\n",
       "recommendations        306\n",
       "release_date             0\n",
       "content_descriptors      0\n",
       "currency                 0\n",
       "price                    0\n",
       "english                  0\n",
       "developer                0\n",
       "publisher                0\n",
       "dtype: int64"
      ]
     },
     "metadata": {},
     "execution_count": 43
    }
   ],
   "source": [
    "steam_data.isnull().sum()"
   ]
  },
  {
   "cell_type": "code",
   "execution_count": 44,
   "metadata": {},
   "outputs": [
    {
     "output_type": "stream",
     "name": "stdout",
     "text": [
      "<class 'pandas.core.frame.DataFrame'>\nRangeIndex: 1000 entries, 0 to 999\nColumns: 39 entries, type to content_descriptors\ndtypes: bool(1), float64(1), int64(2), object(35)\nmemory usage: 18.4 MB\n"
     ]
    }
   ],
   "source": [
    "raw_steam_data.info(verbose=False, memory_usage=\"deep\")"
   ]
  },
  {
   "cell_type": "code",
   "execution_count": 45,
   "metadata": {},
   "outputs": [
    {
     "output_type": "stream",
     "name": "stdout",
     "text": [
      "<class 'pandas.core.frame.DataFrame'>\nInt64Index: 937 entries, 0 to 998\nColumns: 17 entries, name to publisher\ndtypes: bool(1), category(1), int64(3), object(12)\nmemory usage: 1.5 MB\n"
     ]
    }
   ],
   "source": [
    "steam_data.info(verbose=False, memory_usage=\"deep\")"
   ]
  },
  {
   "cell_type": "code",
   "execution_count": 46,
   "metadata": {},
   "outputs": [],
   "source": [
    "steam_data.to_csv('steam_data_clean.csv', index=False)\n"
   ]
  }
 ]
}