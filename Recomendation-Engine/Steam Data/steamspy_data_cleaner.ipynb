{
 "metadata": {
  "language_info": {
   "codemirror_mode": {
    "name": "ipython",
    "version": 3
   },
   "file_extension": ".py",
   "mimetype": "text/x-python",
   "name": "python",
   "nbconvert_exporter": "python",
   "pygments_lexer": "ipython3",
   "version": "3.9.1"
  },
  "orig_nbformat": 2,
  "kernelspec": {
   "name": "python391jvsc74a57bd0b35125075e239e88370a51903b2de2b70acf77108d76d7a81f003ab344a52fa2",
   "display_name": "Python 3.9.1 64-bit"
  },
  "metadata": {
   "interpreter": {
    "hash": "b35125075e239e88370a51903b2de2b70acf77108d76d7a81f003ab344a52fa2"
   }
  }
 },
 "nbformat": 4,
 "nbformat_minor": 2,
 "cells": [
  {
   "cell_type": "code",
   "execution_count": null,
   "metadata": {},
   "outputs": [],
   "source": [
    "# standard library imports\n",
    "from ast import literal_eval\n",
    "import itertools\n",
    "import time\n",
    "import re\n",
    "\n",
    "# third-party imports\n",
    "import numpy as np\n",
    "import pandas as pd\n",
    "\n",
    "# customisations\n",
    "pd.set_option(\"max_columns\", 100)"
   ]
  },
  {
   "cell_type": "code",
   "execution_count": null,
   "metadata": {},
   "outputs": [],
   "source": [
    "raw_steamspy_data = pd.read_csv('steamspy_data.csv')\n",
    "\n",
    "# print out number of rows and columns\n",
    "print('Rows:', raw_steamspy_data.shape[0])\n",
    "print('Columns:', raw_steamspy_data.shape[1])\n",
    "\n",
    "raw_steamspy_data.head()"
   ]
  },
  {
   "cell_type": "code",
   "execution_count": null,
   "metadata": {},
   "outputs": [],
   "source": [
    "raw_steamspy_data.isnull().sum()"
   ]
  },
  {
   "cell_type": "code",
   "execution_count": null,
   "metadata": {},
   "outputs": [],
   "source": [
    "raw_steamspy_data['userscore'].value_counts().head()"
   ]
  },
  {
   "cell_type": "code",
   "execution_count": null,
   "metadata": {},
   "outputs": [],
   "source": [
    "drop_cols = [\n",
    "    'score_rank', # too many missing values\n",
    "    'userscore', # too little variance (all have 0)\n",
    "    'genre', 'developer', 'publisher', 'price' # provided by Steam data\n",
    "    'average_2weeks', 'median_2weeks', 'ccu', 'owners' # not interested in temporally specific columns\n",
    "            ]"
   ]
  },
  {
   "cell_type": "code",
   "execution_count": null,
   "metadata": {},
   "outputs": [],
   "source": [
    "raw_steamspy_data['languages'].head()\n"
   ]
  },
  {
   "cell_type": "code",
   "execution_count": null,
   "metadata": {},
   "outputs": [],
   "source": [
    "tags = raw_steamspy_data['tags']\n",
    "\n",
    "print(tags[0])\n",
    "tags.head()\n"
   ]
  },
  {
   "cell_type": "code",
   "execution_count": null,
   "metadata": {},
   "outputs": [],
   "source": [
    "eval_row = literal_eval(tags[0])\n",
    "\n",
    "print(eval_row['Action'])\n",
    "print(eval_row['FPS'])"
   ]
  },
  {
   "cell_type": "code",
   "execution_count": null,
   "metadata": {},
   "outputs": [],
   "source": [
    "values = [\n",
    "    ['a', 'b'], # list\n",
    "    ('b', 'c'), # tuple\n",
    "    {'d': 'e'}  # dictionary\n",
    "]\n",
    "\n",
    "list(itertools.chain(*values))"
   ]
  },
  {
   "cell_type": "code",
   "execution_count": null,
   "metadata": {},
   "outputs": [],
   "source": [
    "set(itertools.chain(*values))\n"
   ]
  },
  {
   "cell_type": "code",
   "execution_count": null,
   "metadata": {},
   "outputs": [],
   "source": [
    "parsed_tags = tags.apply(lambda x: literal_eval(x))\n",
    "\n",
    "cols = set(itertools.chain(*parsed_tags))\n",
    "\n",
    "print('Number of unique tags:', len(cols))\n",
    "print('\\nFirst few tags:', sorted(list(cols))[:5])"
   ]
  },
  {
   "cell_type": "code",
   "execution_count": null,
   "metadata": {},
   "outputs": [],
   "source": [
    "def parse_tags(x):\n",
    "    x = literal_eval(x)\n",
    "    \n",
    "    if isinstance(x, dict):\n",
    "        return x\n",
    "    elif isinstance(x, list):\n",
    "        return {}\n",
    "    else:\n",
    "        raise TypeError('Something other than dict or list found')\n",
    "\n",
    "parsed_tags = tags.apply(parse_tags)\n",
    "        \n",
    "tag_data = pd.DataFrame()\n",
    "\n",
    "for col in sorted(cols):\n",
    "    # standardise column names\n",
    "    col_name = col.lower().replace(' ', '_').replace('-', '_').replace(\"'\", \"\")\n",
    "\n",
    "    # check if column in row's dictionary of tags and return that value if it is, or 0 if it isn't\n",
    "    tag_data[col_name] = parsed_tags.apply(lambda x: x[col] if col in x.keys() else 0)\n",
    "\n",
    "tag_data.head()\n"
   ]
  },
  {
   "cell_type": "code",
   "execution_count": null,
   "metadata": {},
   "outputs": [],
   "source": [
    "def parse_tags(x):\n",
    "    x = literal_eval(x)\n",
    "\n",
    "    if isinstance(x, dict):\n",
    "        return ';'.join(list(x.keys())[:3])\n",
    "    else:\n",
    "        return np.nan\n",
    "    \n",
    "tags.apply(parse_tags).head()\n"
   ]
  },
  {
   "cell_type": "code",
   "execution_count": null,
   "metadata": {},
   "outputs": [],
   "source": [
    "\n",
    "\n",
    "\n",
    "    #review rating = (positive # of reviews / total number of reviews) * 10    \n",
    "\n",
    "raw_steamspy_data[\"total reviews\"] = raw_steamspy_data[\"positive\"] + raw_steamspy_data[\"negative\"]\n",
    "\n",
    "raw_steamspy_data[\"review_rating\"] = (raw_steamspy_data[\"positive\"] / raw_steamspy_data[\"total reviews\"]) * 10 \n",
    "\n",
    "    #rounds the rating to two decimal places\n",
    "\n",
    "raw_steamspy_data[\"review_rating\"] =  raw_steamspy_data[\"review_rating\"].round(1)\n",
    "\n",
    "    #converts float to str \n",
    "\n",
    "raw_steamspy_data[\"review_rating\"] = raw_steamspy_data[\"review_rating\"].astype(str)\n",
    "\n",
    "raw_steamspy_data[\"review_rating\"] = raw_steamspy_data[\"review_rating\"]\n",
    "\n",
    "raw_steamspy_data['review_rating'].head()\n"
   ]
  },
  {
   "cell_type": "code",
   "execution_count": null,
   "metadata": {},
   "outputs": [],
   "source": [
    "def process_tags(df, export=False):\n",
    "    if export: \n",
    "        \n",
    "        tag_data = df[['appid', 'tags']].copy()\n",
    "        \n",
    "        def parse_export_tags(x):\n",
    "            x = literal_eval(x)\n",
    "\n",
    "            if isinstance(x, dict):\n",
    "                return x\n",
    "            elif isinstance(x, list):\n",
    "                return {}\n",
    "            else:\n",
    "                raise TypeError('Something other than dict or list found')\n",
    "\n",
    "        tag_data['tags'] = tag_data['tags'].apply(parse_export_tags)\n",
    "\n",
    "        cols = set(itertools.chain(*tag_data['tags']))\n",
    "\n",
    "        for col in sorted(cols):\n",
    "            col_name = col.lower().replace(' ', '_').replace('-', '_').replace(\"'\", \"\")\n",
    "\n",
    "            tag_data[col_name] = tag_data['tags'].apply(lambda x: x[col] if col in x.keys() else 0)\n",
    "\n",
    "        tag_data = tag_data.drop('tags', axis=1)\n",
    "\n",
    "        tag_data.to_csv('steamspy_tag_data.csv', index=False)\n",
    "        print(\"Exported tag data to 'steamspy_tag_data.csv'\")\n",
    "        \n",
    "        \n",
    "    def parse_tags(x):\n",
    "        x = literal_eval(x)\n",
    "        \n",
    "        if isinstance(x, dict):\n",
    "            return ';'.join(list(x.keys())[:3])\n",
    "        else:\n",
    "            return np.nan\n",
    "    \n",
    "    df['tags'] = df['tags'].apply(parse_tags)\n",
    "    \n",
    "    # rows with null tags seem to be superseded by newer release, so remove (e.g. dead island)\n",
    "    df = df[df['tags'].notnull()]\n",
    "    \n",
    "    return df\n",
    "\n",
    "\n",
    "def process(df):\n",
    "    df = df.copy()\n",
    "    \n",
    "    # handle missing value\n",
    "    df = df[(df['name'].notnull()) & (df['name'] != 'none')]\n",
    "    df = df[df['developer'].notnull()]\n",
    "    df = df[df['languages'].notnull()]\n",
    "    df = df[df['price'].notnull()]\n",
    "    \n",
    "    # remove unwanted columns\n",
    "    df = df.drop([\n",
    "        'genre', 'developer', 'publisher', 'score_rank', 'userscore', 'average_2weeks',\n",
    "        'median_2weeks', 'ccu', 'owners', 'price', 'initialprice', 'discount'\n",
    "    ], axis=1)\n",
    "    \n",
    "    # keep top tags, exporting full tag data to file\n",
    "    df = process_tags(df, export=True)\n",
    "    \n",
    "    return df\n",
    "\n",
    "\n",
    "steamspy_data = process(raw_steamspy_data)\n",
    "steamspy_data.head()"
   ]
  },
  {
   "cell_type": "code",
   "execution_count": null,
   "metadata": {},
   "outputs": [],
   "source": [
    "steamspy_data.isnull().sum()"
   ]
  },
  {
   "cell_type": "code",
   "execution_count": null,
   "metadata": {},
   "outputs": [],
   "source": [
    "steamspy_data.to_csv('steamspy_data.csv', index=False)\n"
   ]
  },
  {
   "cell_type": "code",
   "execution_count": null,
   "metadata": {},
   "outputs": [],
   "source": [
    "steam_data = pd.read_csv('steam_data_clean.csv')\n",
    "    \n",
    "merged = steam_data.merge(steamspy_data, left_on='steam_appid', right_on='appid', suffixes=('', '_steamspy'))\n",
    "merged.head()"
   ]
  },
  {
   "cell_type": "code",
   "execution_count": null,
   "metadata": {},
   "outputs": [],
   "source": [
    "# remove overlapping columns\n",
    "steam_clean = merged.drop(['name_steamspy', 'languages', 'steam_appid'], axis=1)\n",
    "\n",
    "# reindex to reorder columns\n",
    "steam_clean = steam_clean[[\n",
    "    'appid',\n",
    "    'name',\n",
    "    'release_date',\n",
    "    'english',\n",
    "    'developer',\n",
    "    'publisher',\n",
    "    'platforms',\n",
    "    'required_age',\n",
    "    'categories',\n",
    "    'genres',\n",
    "    'tags',\n",
    "    'positive',\n",
    "    'negative',\n",
    "    'total reviews',\n",
    "    'review_rating',\n",
    "    'average_forever',\n",
    "    'median_forever',\n",
    "    'price'\n",
    "]]\n",
    "\n",
    "steam_clean = steam_clean.rename({\n",
    "    'positive': 'positive_ratings',\n",
    "    'negative': 'negative_ratings',\n",
    "    'average_forever': 'average_playtime',\n",
    "    'median_forever': 'median_playtime'\n",
    "}, axis=1)\n",
    "\n",
    "steam_clean.head()\n"
   ]
  },
  {
   "cell_type": "code",
   "execution_count": null,
   "metadata": {},
   "outputs": [],
   "source": [
    "# export clean dataset\n",
    "steam_clean.to_csv('F:/VSCode Final/../Steam_Clean_Data.csv', index=False)"
   ]
  }
 ]
}